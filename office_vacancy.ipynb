{
 "cells": [
  {
   "cell_type": "code",
   "execution_count": null,
   "metadata": {},
   "outputs": [],
   "source": [
    "%load_ext autoreload"
   ]
  },
  {
   "cell_type": "code",
   "execution_count": null,
   "metadata": {},
   "outputs": [],
   "source": [
    "import altair as alt\n",
    "import polars as pl\n",
    "\n",
    "from altair_utils import color_value_transit_teal"
   ]
  },
  {
   "cell_type": "code",
   "execution_count": null,
   "metadata": {},
   "outputs": [],
   "source": [
    "quarterly_df = (\n",
    "    pl.read_csv(\n",
    "        r\"Q:\\Data\\PeerAgencyDashboards\\SFCity-EconRecovery\\office_space_vacancy-quarterly-updated250123.csv\"\n",
    "    )\n",
    "    .select(\n",
    "        (pl.col(\"San Francisco\").str.strip_chars_end(\"%\").cast(int) / 100).alias(\n",
    "            \"office space vacancy rate\"\n",
    "        ),\n",
    "        date=pl.col(\"Date\").str.to_date(\"%b %y\"),\n",
    "    )\n",
    "    .with_columns(\n",
    "        year=pl.col(\"date\").dt.year(),\n",
    "        quarter=pl.col(\"date\").dt.quarter(),\n",
    "    )\n",
    ").filter(pl.col(\"year\") > 2006)"
   ]
  },
  {
   "cell_type": "code",
   "execution_count": null,
   "metadata": {},
   "outputs": [],
   "source": [
    "chart = (\n",
    "    alt.Chart(quarterly_df)\n",
    "    .mark_line()\n",
    "    .encode(\n",
    "        x=alt.X(\"date\"),  # .axis(values=[\"{y}-1-1\" for y in range(2007, 2026, 3)]),\n",
    "        y=alt.Y(\"office space vacancy rate\").axis(format=\"%\"),\n",
    "        color=color_value_transit_teal,\n",
    "        tooltip=[\n",
    "            \"year\",\n",
    "            \"quarter\",\n",
    "            alt.Tooltip(\"office space vacancy rate\", format=\".0%\"),\n",
    "        ],\n",
    "    )\n",
    ")\n",
    "quarterly_df.write_csv(\"output/data/office_vacancy.csv\")\n",
    "chart.save(\"output/Links/office_vacancy.png\", scale_factor=3)\n",
    "chart.properties(width=\"container\").save(\"output/Links/office_vacancy.html\")\n",
    "chart"
   ]
  }
 ],
 "metadata": {
  "kernelspec": {
   "display_name": "py312",
   "language": "python",
   "name": "python3"
  },
  "language_info": {
   "codemirror_mode": {
    "name": "ipython",
    "version": 3
   },
   "file_extension": ".py",
   "mimetype": "text/x-python",
   "name": "python",
   "nbconvert_exporter": "python",
   "pygments_lexer": "ipython3",
   "version": "3.12.3"
  }
 },
 "nbformat": 4,
 "nbformat_minor": 2
}
