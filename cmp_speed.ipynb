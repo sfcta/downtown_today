{
 "cells": [
  {
   "cell_type": "code",
   "execution_count": 1,
   "metadata": {},
   "outputs": [],
   "source": [
    "%load_ext autoreload"
   ]
  },
  {
   "cell_type": "code",
   "execution_count": 2,
   "metadata": {},
   "outputs": [],
   "source": [
    "from pathlib import Path\n",
    "\n",
    "import altair as alt\n",
    "import polars as pl\n",
    "\n",
    "%autoreload\n",
    "from altair_utils import color_line_blue_green"
   ]
  },
  {
   "cell_type": "code",
   "execution_count": 3,
   "metadata": {},
   "outputs": [],
   "source": [
    "dir = Path(r\"Q:\\Model Research\\downtown_today\\cmp-stats\")\n",
    "auto = pl.read_csv(dir / \"cmp_segments-auto-speed.csv\")\n",
    "transit = pl.read_csv(dir / \"cmp_segments-transit-speed.csv\")"
   ]
  },
  {
   "cell_type": "code",
   "execution_count": 4,
   "metadata": {},
   "outputs": [],
   "source": [
    "ne_core_color = alt.Color(\"northeast_core\").scale(\n",
    "    domain=[True, False], range=color_line_blue_green\n",
    ")"
   ]
  },
  {
   "cell_type": "code",
   "execution_count": null,
   "metadata": {},
   "outputs": [],
   "source": [
    "auto_chart = (\n",
    "    alt.Chart(\n",
    "        auto.filter((pl.col(\"fac_typ\") == \"Arterial\") & (pl.col(\"year\") > 2016)),\n",
    "        title=\"CMP network (arterials) auto speeds\",\n",
    "    )\n",
    "    .mark_line()\n",
    "    .encode(\n",
    "        x=\"year:O\",\n",
    "        y=\"speed\",\n",
    "        color=ne_core_color,\n",
    "        strokeDash=\"period\",\n",
    "    )\n",
    ")\n",
    "auto_chart.save(dir / \"cmp_network-arterial-auto-speed.png\")\n",
    "auto_chart.save(dir / \"cmp_network-arterial-auto-speed.html\")\n",
    "auto_chart"
   ]
  },
  {
   "cell_type": "code",
   "execution_count": null,
   "metadata": {},
   "outputs": [],
   "source": [
    "transit_chart = (\n",
    "    alt.Chart(\n",
    "        transit.filter((pl.col(\"fac_typ\") == \"Arterial\") & (pl.col(\"year\") > 2016)),\n",
    "        title=\"CMP network (arterials) transit speeds\",\n",
    "    )\n",
    "    .mark_line()\n",
    "    .encode(x=\"year:O\", y=\"speed\", color=ne_core_color, strokeDash=\"period\")\n",
    ")\n",
    "transit_chart.save(dir / \"cmp_network-arterial-transit-speed.png\")\n",
    "transit_chart.save(dir / \"cmp_network-arterial-transit-speed.html\")\n",
    "transit_chart"
   ]
  }
 ],
 "metadata": {
  "kernelspec": {
   "display_name": "py312",
   "language": "python",
   "name": "python3"
  },
  "language_info": {
   "codemirror_mode": {
    "name": "ipython",
    "version": 3
   },
   "file_extension": ".py",
   "mimetype": "text/x-python",
   "name": "python",
   "nbconvert_exporter": "python",
   "pygments_lexer": "ipython3",
   "version": "3.12.3"
  }
 },
 "nbformat": 4,
 "nbformat_minor": 2
}
