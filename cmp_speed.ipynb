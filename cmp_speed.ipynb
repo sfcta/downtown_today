{
 "cells": [
  {
   "cell_type": "code",
   "execution_count": 1,
   "metadata": {},
   "outputs": [],
   "source": [
    "%load_ext autoreload"
   ]
  },
  {
   "cell_type": "code",
   "execution_count": 21,
   "metadata": {},
   "outputs": [],
   "source": [
    "from pathlib import Path\n",
    "\n",
    "import altair as alt\n",
    "import polars as pl\n",
    "\n",
    "%autoreload\n",
    "from altair_utils import (\n",
    "    color_sf_bayarea,\n",
    "    color_sfcore_restofsf_restofbayarea,\n",
    "    line_strokeDash,\n",
    ")"
   ]
  },
  {
   "cell_type": "code",
   "execution_count": 3,
   "metadata": {},
   "outputs": [],
   "source": [
    "def parse_csv(df):\n",
    "    return (\n",
    "        df.filter((pl.col(\"year\") > 2016))\n",
    "        .with_columns(\n",
    "            geography=pl.when(\"northeast_core\")\n",
    "            .then(pl.lit(\"northeast core\"))\n",
    "            .otherwise(pl.lit(\"rest of SF\"))\n",
    "        )\n",
    "        .drop(\"northeast_core\")\n",
    "    )"
   ]
  },
  {
   "cell_type": "code",
   "execution_count": 4,
   "metadata": {},
   "outputs": [],
   "source": [
    "dir = Path(r\"Q:\\Model Research\\downtown_today\\cmp-stats\")\n",
    "auto_arterial = (\n",
    "    parse_csv(pl.read_csv(dir / \"cmp_segments-auto-speed.csv\"))\n",
    "    .filter((pl.col(\"inrix_segments\") == \"XD\") & (pl.col(\"fac_typ\") == \"Arterial\"))\n",
    "    .drop(\"inrix_segments\")\n",
    ")\n",
    "transit = parse_csv(pl.read_csv(dir / \"cmp_segments-transit-speed.csv\"))\n",
    "geog_color = alt.Color(\"geography\").scale(\n",
    "    domain=[\"northeast core\", \"rest of SF\"],\n",
    "    range=color_sfcore_restofsf_restofbayarea[:2],\n",
    ")"
   ]
  },
  {
   "cell_type": "code",
   "execution_count": 5,
   "metadata": {},
   "outputs": [],
   "source": [
    "auto_freeway_path = r\"Q:\\CMP\\LOS Monitoring 2023\\cmp_aggregate_xd.csv\"\n",
    "auto_freeway = (\n",
    "    pl.read_csv(auto_freeway_path)\n",
    "    .filter((pl.col(\"viz\") == \"ALOS\") & (pl.col(\"fac_typ\") == \"Freeway\"))\n",
    "    .drop(\"viz\")\n",
    "    .rename({\"metric\": \"speed\"})\n",
    ")"
   ]
  },
  {
   "cell_type": "code",
   "execution_count": null,
   "metadata": {},
   "outputs": [],
   "source": [
    "auto_freeway_chart = (\n",
    "    alt.Chart(auto_freeway)\n",
    "    .mark_line()\n",
    "    .encode(\n",
    "        x=\"year:O\",\n",
    "        y=alt.Y(\"speed\", title=\"CMP network (freeways) auto speeds\"),\n",
    "        color=alt.value(color_sf_bayarea[0]),\n",
    "        strokeDash=alt.StrokeDash(\"period\").scale(\n",
    "            domain=[\"AM\", \"PM\"],\n",
    "            range=line_strokeDash,\n",
    "        ),\n",
    "        tooltip=[\"year\", \"period\", \"speed\"],\n",
    "    )\n",
    ")\n",
    "auto_freeway.write_csv(\"output/data/cmp_network-freeway-auto-speed.csv\")\n",
    "auto_freeway_chart.properties(width=200).save(\n",
    "    \"output/Links/cmp_network-freeway-auto-speed.png\", scale=3\n",
    ")\n",
    "auto_freeway_chart.properties(width=\"container\").save(\n",
    "    \"output/Links/cmp_network-freeway-auto-speed.html\"\n",
    ")\n",
    "auto_freeway_chart.properties(width=200).interactive()"
   ]
  },
  {
   "cell_type": "code",
   "execution_count": null,
   "metadata": {},
   "outputs": [],
   "source": [
    "auto_arterial_chart = (\n",
    "    alt.Chart(auto_arterial)\n",
    "    .mark_line()\n",
    "    .encode(\n",
    "        x=\"year:O\",\n",
    "        y=alt.Y(\"speed\", title=\"CMP network (arterials) auto speeds\"),\n",
    "        color=geog_color,\n",
    "        strokeDash=alt.StrokeDash(\"period\").scale(\n",
    "            domain=[\"AM\", \"PM\"],\n",
    "            range=line_strokeDash,\n",
    "        ),\n",
    "        tooltip=[\"year\", \"period\", \"geography\", \"speed\"],\n",
    "    )\n",
    ")\n",
    "auto_arterial_chart.properties(width=200).save(\n",
    "    \"output/Links/cmp_network-arterial-auto-speed.png\", scale=3\n",
    ")\n",
    "auto_arterial_chart.properties(width=\"container\").save(\n",
    "    \"output/Links/cmp_network-arterial-auto-speed.html\"\n",
    ")\n",
    "auto_arterial_chart.properties(width=200)"
   ]
  },
  {
   "cell_type": "code",
   "execution_count": null,
   "metadata": {},
   "outputs": [],
   "source": [
    "transit_chart = (\n",
    "    alt.Chart(\n",
    "        transit.filter((pl.col(\"fac_typ\") == \"Arterial\") & (pl.col(\"year\") > 2016)),\n",
    "        title=\"CMP network (arterials) transit speeds\",\n",
    "    )\n",
    "    .mark_line()\n",
    "    .encode(\n",
    "        x=\"year:O\",\n",
    "        y=\"speed\",\n",
    "        color=geog_color,\n",
    "        strokeDash=alt.StrokeDash(\"period\").scale(\n",
    "            domain=[\"AM\", \"PM\"],\n",
    "            range=line_strokeDash,\n",
    "        ),\n",
    "        tooltip=[\"year\", \"period\", \"geography\", \"speed\"],\n",
    "    )\n",
    ")\n",
    "transit_chart.properties(width=200).save(\n",
    "    \"output/Links/cmp_network-arterial-transit-speed.png\", scale=3\n",
    ")\n",
    "transit_chart.properties(width=\"container\").save(\n",
    "    \"output/Links/cmp_network-arterial-transit-speed.html\"\n",
    ")\n",
    "transit_chart.properties(width=200)"
   ]
  }
 ],
 "metadata": {
  "kernelspec": {
   "display_name": "py312",
   "language": "python",
   "name": "python3"
  },
  "language_info": {
   "codemirror_mode": {
    "name": "ipython",
    "version": 3
   },
   "file_extension": ".py",
   "mimetype": "text/x-python",
   "name": "python",
   "nbconvert_exporter": "python",
   "pygments_lexer": "ipython3",
   "version": "3.12.3"
  }
 },
 "nbformat": 4,
 "nbformat_minor": 2
}
