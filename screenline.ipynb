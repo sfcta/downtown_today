{
 "cells": [
  {
   "cell_type": "code",
   "execution_count": 1,
   "metadata": {},
   "outputs": [],
   "source": [
    "%load_ext autoreload"
   ]
  },
  {
   "cell_type": "code",
   "execution_count": 2,
   "metadata": {},
   "outputs": [],
   "source": [
    "import altair as alt\n",
    "import polars as pl\n",
    "\n",
    "%autoreload\n",
    "from altair_utils import color_value_transit_teal"
   ]
  },
  {
   "cell_type": "code",
   "execution_count": 26,
   "metadata": {},
   "outputs": [],
   "source": [
    "ggbridge = pl.read_csv(\n",
    "    r\"Q:\\Data\\Observed\\Streets\\GoldenGateBridge\\crossings-annual.csv\"\n",
    ").with_columns(\n",
    "    pl.col(\"fiscal year (Jul-Jun)\").str.strip_prefix(\"20\").str.replace(\"/20\", \"/\")\n",
    ")"
   ]
  },
  {
   "cell_type": "code",
   "execution_count": null,
   "metadata": {},
   "outputs": [],
   "source": [
    "ggbridge_chart = (\n",
    "    alt.Chart(ggbridge.filter(pl.col(\"fiscal year (Jul-Jun)\") > \"16/17\"))\n",
    "    .mark_line()\n",
    "    .encode(\n",
    "        x=alt.X(\"fiscal year (Jul-Jun):O\", axis=alt.Axis(labelOverlap=True)),\n",
    "        y=alt.Y(\n",
    "            \"annual southbound vehicle crossings\",\n",
    "            title=\"Golden Gate Bridge (southbound) annual vehicle crossings\",\n",
    "        ),\n",
    "        color=color_value_transit_teal,\n",
    "        tooltip=[\"fiscal year (Jul-Jun)\", \"annual southbound vehicle crossings\"],\n",
    "    )\n",
    ").interactive()\n",
    "ggbridge_chart.save(\"output/Links/screenline-ggbridge.png\")\n",
    "ggbridge_chart.properties(width=\"container\").save(\n",
    "    \"output/Links/screenline-ggbridge.html\"\n",
    ")\n",
    "ggbridge_chart"
   ]
  }
 ],
 "metadata": {
  "kernelspec": {
   "display_name": "py312",
   "language": "python",
   "name": "python3"
  },
  "language_info": {
   "codemirror_mode": {
    "name": "ipython",
    "version": 3
   },
   "file_extension": ".py",
   "mimetype": "text/x-python",
   "name": "python",
   "nbconvert_exporter": "python",
   "pygments_lexer": "ipython3",
   "version": "3.12.3"
  }
 },
 "nbformat": 4,
 "nbformat_minor": 2
}
