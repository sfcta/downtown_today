{
 "cells": [
  {
   "cell_type": "code",
   "execution_count": 43,
   "metadata": {},
   "outputs": [],
   "source": [
    "import sys\n",
    "from pathlib import Path\n",
    "\n",
    "import altair as alt\n",
    "import pandas as pd\n",
    "import polars as pl\n",
    "\n",
    "# HOTFIX instead of setting up warehouse scripts as a package\n",
    "sys.path.append(r\"C:\\Users\\cchow\\repos\\warehouse_scripts\\cmprt\")\n",
    "from create_cmpaggregate_view_rt import create_cmpaggregate_view_rt"
   ]
  },
  {
   "cell_type": "code",
   "execution_count": 14,
   "metadata": {},
   "outputs": [],
   "source": [
    "dir = Path(r\"Q:\\Model Research\\downtown_today\\cmp-stats\\expanded_network\")\n",
    "ne_core = create_cmpaggregate_view_rt(\n",
    "    \"inrix_rt_weekly_exp\",\n",
    "    segments_subset_csv_filepath=(\n",
    "        dir / \"cmp_segments-expanded_v202204-northeast_core.csv\"\n",
    "    ),\n",
    ")\n",
    "ne_core.to_csv(\n",
    "    dir / \"auto_stats-cmp_segments-expanded_v202204-northeast_core.csv\", index=False\n",
    ")\n",
    "ex_ne_core = create_cmpaggregate_view_rt(\n",
    "    \"inrix_rt_weekly_exp\",\n",
    "    segments_subset_csv_filepath=(\n",
    "        dir / \"cmp_segments-expanded_v202204-ex_northeast_core.csv\"\n",
    "    ),\n",
    ")\n",
    "ex_ne_core.to_csv(\n",
    "    dir / \"auto_stats-cmp_segments-expanded_v202204-ex_northeast_core.csv\", index=False\n",
    ")\n",
    "df = pl.from_pandas(\n",
    "    pd.concat(\n",
    "        (ne_core.assign(northeast_core=True), ex_ne_core.assign(northeast_core=False))\n",
    "    )\n",
    ")"
   ]
  },
  {
   "cell_type": "code",
   "execution_count": 15,
   "metadata": {},
   "outputs": [],
   "source": [
    "df = pl.from_pandas(\n",
    "    pd.concat(\n",
    "        (ne_core.assign(northeast_core=True), ex_ne_core.assign(northeast_core=False))\n",
    "    )\n",
    ")"
   ]
  },
  {
   "cell_type": "code",
   "execution_count": null,
   "metadata": {},
   "outputs": [],
   "source": [
    "(\n",
    "    alt.Chart(df.filter((pl.col(\"fac_typ\") == \"Arterial\") & (pl.col(\"viz\") == \"ASPD\")))\n",
    "    .mark_line()\n",
    "    .encode(x=\"date:O\", y=\"metric\", color=\"northeast_core\", strokeDash=\"period\")\n",
    ")"
   ]
  }
 ],
 "metadata": {
  "kernelspec": {
   "display_name": "py312",
   "language": "python",
   "name": "python3"
  },
  "language_info": {
   "codemirror_mode": {
    "name": "ipython",
    "version": 3
   },
   "file_extension": ".py",
   "mimetype": "text/x-python",
   "name": "python",
   "nbconvert_exporter": "python",
   "pygments_lexer": "ipython3",
   "version": "3.12.3"
  }
 },
 "nbformat": 4,
 "nbformat_minor": 2
}
