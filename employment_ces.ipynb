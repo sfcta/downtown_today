{
 "cells": [
  {
   "cell_type": "code",
   "execution_count": null,
   "metadata": {},
   "outputs": [],
   "source": [
    "from pathlib import Path\n",
    "import hvplot.polars\n",
    "\n",
    "import polars as pl\n",
    "import numpy as np\n",
    "\n",
    "hvplot.extension(\"plotly\")  # bokeh PNG export is broken\n"
   ]
  },
  {
   "cell_type": "code",
   "execution_count": null,
   "metadata": {},
   "outputs": [],
   "source": [
    "# CES employment numbers are by place-of-work\n",
    "years = np.arange(2014, 2023)  # county level numbers are only available up to 2022\n"
   ]
  },
  {
   "cell_type": "code",
   "execution_count": null,
   "metadata": {},
   "outputs": [],
   "source": [
    "def read_ces(filepath, years):\n",
    "    return (\n",
    "        pl.read_csv(filepath)\n",
    "        .with_columns(pl.col(\"Industry Title\").str.strip_chars_start())\n",
    "        .filter(pl.col(\"Year\").is_in(years))\n",
    "    )\n",
    "\n",
    "\n",
    "def parse_to_geographies(df):\n",
    "    \"\"\"parse data to just SF and (9-county) Bay Area\"\"\"\n",
    "    bay_area_counties = {\n",
    "        \"San Francisco County\",\n",
    "        \"San Mateo County\",\n",
    "        \"Santa Clara County\",\n",
    "        \"Alameda County\",\n",
    "        \"Contra Costa County\",\n",
    "        \"Solano County\",\n",
    "        \"Napa County\",\n",
    "        \"Sonoma County\",\n",
    "        \"Marin County\",\n",
    "    }\n",
    "    filter_bay_area = pl.col(\"Area Name\").is_in(bay_area_counties)\n",
    "    filter_sf = pl.col(\"Area Name\") == \"San Francisco County\"\n",
    "    return pl.concat(\n",
    "        [\n",
    "            df.filter(filter_bay_area)\n",
    "            .group_by(\"Year\", \"Month\", \"Date\", \"Series Code\", \"Industry Title\")\n",
    "            .agg(pl.sum(\"Current Employment\"))\n",
    "            .with_columns(geography=pl.lit(\"Bay Area\")),\n",
    "            df.filter(filter_sf).select(\n",
    "                \"Year\",\n",
    "                \"Month\",\n",
    "                \"Date\",\n",
    "                \"Series Code\",\n",
    "                \"Industry Title\",\n",
    "                \"Current Employment\",\n",
    "                geography=pl.lit(\"San Francisco\"),\n",
    "            ),\n",
    "        ]\n",
    "    )\n",
    "\n",
    "\n",
    "def annual_average(df):\n",
    "    \"\"\"average over the 12 months of the year\"\"\"\n",
    "    if \"geography\" in df.columns:\n",
    "        geo_col = \"geography\"  # col name after parse_to_geographies()\n",
    "    else:\n",
    "        geo_col = \"Area Name\"  # the original geography column\n",
    "    return df.group_by(\"Year\", \"Series Code\", \"Industry Title\", geo_col).agg(\n",
    "        pl.mean(\"Current Employment\")\n",
    "    )\n",
    "\n",
    "\n",
    "def parse_industries(df):\n",
    "    # industries + industries_other: a set of non-overlapping industries\n",
    "    industries = [\n",
    "        \"Government\",\n",
    "        \"Health Care and Social Assistance\",\n",
    "        \"Finance and Insurance\",\n",
    "        \"Real Estate and Rental and Leasing\",\n",
    "        \"Trade, Transportation, and Utilities\",\n",
    "        \"Leisure and Hospitality\",\n",
    "        \"Information\",\n",
    "        \"Professional and Business Services\",\n",
    "    ]\n",
    "    industries_other = [\n",
    "        \"Goods Producing\",\n",
    "        \"Total Farm\",\n",
    "        \"Private Educational Services\",\n",
    "        \"Other Services\",\n",
    "    ]\n",
    "    return (\n",
    "        df.filter(pl.col(\"Industry Title\").is_in(industries + industries_other))\n",
    "        .with_columns(\n",
    "            pl.when(pl.col(\"Industry Title\").is_in(industries))\n",
    "            .then(pl.col(\"Industry Title\"))\n",
    "            .otherwise(pl.lit(\"other\"))\n",
    "        )\n",
    "        .group_by(\"Year\", \"Industry Title\", \"geography\")\n",
    "        .agg(pl.sum(\"Current Employment\"))\n",
    "        .sort(\"Year\", \"geography\")\n",
    "    )\n",
    "\n",
    "\n",
    "def add_industry_share_col(df):\n",
    "    return df.with_columns(\n",
    "        industry_share=(\n",
    "            pl.col(\"Current Employment\")\n",
    "            / pl.col(\"Current Employment\").sum().over(\"Year\", \"geography\")\n",
    "        ),\n",
    "    )\n",
    "\n",
    "\n",
    "def plot_industry_shares(df, geography, title):\n",
    "    return df.filter(pl.col(\"geography\") == geography).plot.bar(\n",
    "        x=\"Year\", y=\"industry_share\", by=\"Industry Title\", stacked=True, title=title\n",
    "    )\n"
   ]
  },
  {
   "cell_type": "code",
   "execution_count": null,
   "metadata": {},
   "outputs": [],
   "source": [
    "filepath = r\"Q:\\Data\\Surveys\\EDD\\ces_2014-2024_monthly_2024612.csv\"\n",
    "df = parse_industries(annual_average(parse_to_geographies(read_ces(filepath, years))))"
   ]
  },
  {
   "cell_type": "code",
   "execution_count": null,
   "metadata": {},
   "outputs": [],
   "source": [
    "shares_df = add_industry_share_col(df)\n",
    "plot_industry_shares(shares_df, \"San Francisco\", \"Industry shares in San Francisco\")\n"
   ]
  },
  {
   "cell_type": "code",
   "execution_count": null,
   "metadata": {},
   "outputs": [],
   "source": [
    "plot_industry_shares(shares_df, \"Bay Area\", \"Industry shares in Bay Area\")"
   ]
  },
  {
   "cell_type": "code",
   "execution_count": null,
   "metadata": {},
   "outputs": [],
   "source": [
    "# Note the grown vs shrunk Information sector in Bay Area vs SF"
   ]
  },
  {
   "cell_type": "code",
   "execution_count": null,
   "metadata": {},
   "outputs": [],
   "source": [
    "annual_total_df = df.group_by(\"Year\", \"geography\").sum().drop(\"Industry Title\")"
   ]
  },
  {
   "cell_type": "code",
   "execution_count": null,
   "metadata": {},
   "outputs": [],
   "source": [
    "annual_total_df.sort(\"Year\").plot.line(\n",
    "    x=\"Year\",\n",
    "    y=\"Current Employment\",\n",
    "    by=\"geography\",\n",
    "    title=\"total employment\",\n",
    ")\n"
   ]
  },
  {
   "cell_type": "code",
   "execution_count": null,
   "metadata": {},
   "outputs": [],
   "source": [
    "annual_total_df.join(\n",
    "    annual_total_df.filter(pl.col(\"Year\") == 2019).rename(\n",
    "        {\"Current Employment\": \"employment-2019\"}\n",
    "    ),\n",
    "    on=\"geography\",\n",
    "    how=\"left\",\n",
    ").with_columns(\n",
    "    employment_normalized_to_2019=(\n",
    "        pl.col(\"Current Employment\") / pl.col(\"employment-2019\")\n",
    "    )\n",
    ").sort(\"Year\").plot.line(\n",
    "    x=\"Year\",\n",
    "    y=\"employment_normalized_to_2019\",\n",
    "    by=\"geography\",\n",
    "    title=\"total employment (normalized to 2019)\",\n",
    ")\n"
   ]
  }
 ],
 "metadata": {
  "kernelspec": {
   "display_name": "py3.11",
   "language": "python",
   "name": "python3"
  },
  "language_info": {
   "codemirror_mode": {
    "name": "ipython",
    "version": 3
   },
   "file_extension": ".py",
   "mimetype": "text/x-python",
   "name": "python",
   "nbconvert_exporter": "python",
   "pygments_lexer": "ipython3",
   "version": "3.12.3"
  }
 },
 "nbformat": 4,
 "nbformat_minor": 2
}
