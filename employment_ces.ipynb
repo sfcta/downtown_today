{
 "cells": [
  {
   "cell_type": "code",
   "execution_count": null,
   "metadata": {},
   "outputs": [],
   "source": [
    "%load_ext autoreload"
   ]
  },
  {
   "cell_type": "code",
   "execution_count": null,
   "metadata": {},
   "outputs": [],
   "source": [
    "from pathlib import Path\n",
    "import hvplot.polars\n",
    "\n",
    "import polars as pl\n",
    "import numpy as np\n",
    "\n",
    "%autoreload\n",
    "from utils import (\n",
    "    line_plot,\n",
    "    line_plot_normalized,\n",
    "    add_industry_share_col,\n",
    "    stacked_bar_plot,\n",
    ")\n",
    "\n",
    "hvplot.extension(\"plotly\")  # bokeh PNG export is broken"
   ]
  },
  {
   "cell_type": "code",
   "execution_count": null,
   "metadata": {},
   "outputs": [],
   "source": [
    "# CES/QCEW employment numbers are by place-of-work\n",
    "years = np.arange(2014, 2023)  # county level numbers are only available up to 2022\n",
    "industry_shares_years = [2019, 2022]"
   ]
  },
  {
   "cell_type": "code",
   "execution_count": null,
   "metadata": {},
   "outputs": [],
   "source": [
    "def read_ces(filepath, years):\n",
    "    return parse_ces_industries(\n",
    "        annual_average(parse_to_geographies(_read_ces(filepath, years)))\n",
    "    )\n",
    "\n",
    "\n",
    "def _read_ces(filepath, years):\n",
    "    return (\n",
    "        pl.read_csv(filepath)\n",
    "        .with_columns(pl.col(\"Industry Title\").str.strip_chars_start())\n",
    "        .filter(pl.col(\"Year\").is_in(years))\n",
    "        .rename({\"Current Employment\": \"employment\", \"Industry Title\": \"industry\"})\n",
    "    )\n",
    "\n",
    "\n",
    "def parse_to_geographies(df):\n",
    "    \"\"\"parse data to just SF and (9-county) Bay Area\"\"\"\n",
    "    bay_area_counties = {\n",
    "        \"San Francisco County\",\n",
    "        \"San Mateo County\",\n",
    "        \"Santa Clara County\",\n",
    "        \"Alameda County\",\n",
    "        \"Contra Costa County\",\n",
    "        \"Solano County\",\n",
    "        \"Napa County\",\n",
    "        \"Sonoma County\",\n",
    "        \"Marin County\",\n",
    "    }\n",
    "    filter_bay_area = pl.col(\"Area Name\").is_in(bay_area_counties)\n",
    "    filter_sf = pl.col(\"Area Name\") == \"San Francisco County\"\n",
    "    return pl.concat(\n",
    "        [\n",
    "            df.filter(filter_bay_area)\n",
    "            .group_by(\"Year\", \"Month\", \"Date\", \"Series Code\", \"industry\")\n",
    "            .agg(pl.sum(\"employment\"))\n",
    "            .with_columns(geography=pl.lit(\"Bay Area\")),\n",
    "            df.filter(filter_sf).select(\n",
    "                \"Year\",\n",
    "                \"Month\",\n",
    "                \"Date\",\n",
    "                \"Series Code\",\n",
    "                \"industry\",\n",
    "                \"employment\",\n",
    "                geography=pl.lit(\"San Francisco\"),\n",
    "            ),\n",
    "        ]\n",
    "    )\n",
    "\n",
    "\n",
    "def annual_average(df):\n",
    "    \"\"\"average over the 12 months of the year\"\"\"\n",
    "    if \"geography\" in df.columns:\n",
    "        geo_col = \"geography\"  # col name after parse_to_geographies()\n",
    "    else:\n",
    "        geo_col = \"Area Name\"  # the original geography column\n",
    "    return df.group_by(\"Year\", \"Series Code\", \"industry\", geo_col).agg(\n",
    "        pl.mean(\"employment\")\n",
    "    )\n",
    "\n",
    "\n",
    "def parse_ces_industries(df):\n",
    "    # industries + industries_other: a set of non-overlapping industries\n",
    "    ces_naics_industries_as_is = [  # comments are the NAICS codes\n",
    "        \"Goods Producing\",  # 16/10-1\n",
    "        \"Trade, Transportation, and Utilities\",  # 40/10-21\n",
    "        \"Information\",  # 50/10-22\n",
    "        \"Financial Activities\",  # 55/10-23\n",
    "        \"Professional and Business Services\",  # 60/10-24\n",
    "        \"Private Education and Health Services\",  # 65/10-25\n",
    "        \"Leisure and Hospitality\",  # 70/10-26\n",
    "        \"Other Services\",  # 80/10-27\n",
    "        \"Government\",  # 90\n",
    "        \"Total Farm\",  # Farm is NOT in QCEW\n",
    "    ]\n",
    "    return (\n",
    "        df.filter(pl.col(\"industry\").is_in(ces_naics_industries_as_is))\n",
    "        .group_by(\"Year\", \"industry\", \"geography\")\n",
    "        .agg(pl.sum(\"employment\"))\n",
    "        .sort(\"Year\", \"geography\")\n",
    "    )"
   ]
  },
  {
   "cell_type": "code",
   "execution_count": null,
   "metadata": {},
   "outputs": [],
   "source": [
    "filepath = r\"Q:\\Data\\Surveys\\CA-EDD\\CES\\ces_2014-2024_monthly_2024627.csv\"\n",
    "df = read_ces(filepath, years)"
   ]
  },
  {
   "cell_type": "code",
   "execution_count": null,
   "metadata": {},
   "outputs": [],
   "source": [
    "annual_total_df = df.group_by(\"Year\", \"geography\").sum().drop(\"industry\")\n",
    "(\n",
    "    line_plot(\n",
    "        annual_total_df,\n",
    "        \"Year\",\n",
    "        \"employment\",\n",
    "        \"geography\",\n",
    "        \"total employment\",\n",
    "        frame_width=300,\n",
    "    )\n",
    "    + line_plot_normalized(\n",
    "        annual_total_df,\n",
    "        \"Year\",\n",
    "        \"employment\",\n",
    "        \"geography\",\n",
    "        \"total employment (normalized)\",\n",
    "        norm_x_value=2019,\n",
    "        frame_width=300,\n",
    "    )\n",
    ")"
   ]
  },
  {
   "cell_type": "code",
   "execution_count": null,
   "metadata": {},
   "outputs": [],
   "source": [
    "shares_df = add_industry_share_col(df, \"employment\")"
   ]
  },
  {
   "cell_type": "code",
   "execution_count": null,
   "metadata": {},
   "outputs": [],
   "source": [
    "stacked_bar_plot(\n",
    "    shares_df,\n",
    "    \"employment-industry_share\",\n",
    "    \"San Francisco\",\n",
    "    \"industry\",\n",
    "    \"San Francisco employment: industry shares\",\n",
    "    # no clear trends over the past decade, so we'll just show 2019 vs 2022\n",
    "    industry_shares_years,\n",
    "    frame_width=300,\n",
    ")\n"
   ]
  },
  {
   "cell_type": "code",
   "execution_count": null,
   "metadata": {},
   "outputs": [],
   "source": [
    "stacked_bar_plot(\n",
    "    shares_df,\n",
    "    \"employment-industry_share\",\n",
    "    \"Bay Area\",\n",
    "    \"industry\",\n",
    "    \"Bay Area employment: industry shares\",\n",
    "    # no clear trends over the past decade, so we'll just show 2019 vs 2022\n",
    "    industry_shares_years,\n",
    "    frame_width=300,\n",
    ")\n"
   ]
  }
 ],
 "metadata": {
  "kernelspec": {
   "display_name": "py3.11",
   "language": "python",
   "name": "python3"
  },
  "language_info": {
   "codemirror_mode": {
    "name": "ipython",
    "version": 3
   },
   "file_extension": ".py",
   "mimetype": "text/x-python",
   "name": "python",
   "nbconvert_exporter": "python",
   "pygments_lexer": "ipython3",
   "version": "3.12.3"
  }
 },
 "nbformat": 4,
 "nbformat_minor": 2
}
