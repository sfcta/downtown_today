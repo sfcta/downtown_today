{
 "cells": [
  {
   "cell_type": "code",
   "execution_count": null,
   "metadata": {},
   "outputs": [],
   "source": [
    "from pathlib import Path\n",
    "\n",
    "import hvplot.polars\n",
    "import polars as pl"
   ]
  },
  {
   "cell_type": "code",
   "execution_count": null,
   "metadata": {},
   "outputs": [],
   "source": [
    "# not much change between 18-19 and 21-22, so just plot 19 vs 22\n",
    "# ACS 1-year is not available for 2020\n",
    "years = [2019, 2022]  # [2018, 2019, 2021, 2022]\n",
    "filepaths = {\n",
    "    y: next(\n",
    "        Path(\n",
    "            r\"Q:\\Data\\Surveys\\Census\\ACS\\1yr\"\n",
    "            rf\"\\{y}\\C03002-HispanicOrLatinoOriginByRace-BayArea_Counties-SF_PUMAs\"\n",
    "        ).glob(\"*.csv\")\n",
    "    )\n",
    "    for y in years\n",
    "}\n",
    "dfs = {\n",
    "    y: pl.read_csv(\n",
    "        filepaths[y],\n",
    "        # columns=[\"cmp_segid\", \"year\", \"source\", \"period\", \"avg_speed\"],\n",
    "    )\n",
    "    for y in years\n",
    "}\n"
   ]
  },
  {
   "cell_type": "code",
   "execution_count": null,
   "metadata": {},
   "outputs": [],
   "source": [
    "def parse_raceethnicity_csv(df, year):\n",
    "    \"\"\"parse the DataFrame from pl.read_csv() of a single year's C03002 ACS 1yr CSV\"\"\"\n",
    "    return (\n",
    "        df.with_columns(\n",
    "            pl.col(\"Label (Grouping)\").str.strip_chars_start(),\n",
    "        )\n",
    "        .filter(\n",
    "            ~pl.col(\"Label (Grouping)\").is_in(\n",
    "                [\n",
    "                    \"Not Hispanic or Latino:\",\n",
    "                    \"Two races including Some other race\",\n",
    "                    \"Two races excluding Some other race, and three or more races\",\n",
    "                ]\n",
    "            )\n",
    "        )\n",
    "        .with_columns(\n",
    "            # not using PUMAs because PUMAs changed between 2010s and 2020s\n",
    "            # pl.col(\"^San Francisco County.*!!.*$\")  # for PUMAs\n",
    "            pl.col(\"^.* County, California!!Estimate$\")\n",
    "            .str.replace_all(\",\", \"\")\n",
    "            .cast(int),\n",
    "        )\n",
    "        .rename(\n",
    "            {\n",
    "                \"Label (Grouping)\": \"race/ethnicity\",\n",
    "                \"San Francisco County, California!!Estimate\": \"San Francisco\",\n",
    "            }\n",
    "        )\n",
    "        .with_columns(\n",
    "            pl.sum_horizontal(\"^.* County, California!!Estimate$\").alias(\"Bay Area\"),\n",
    "        )\n",
    "        .select(\n",
    "            \"race/ethnicity\",\n",
    "            pl.col(\"San Francisco\", \"Bay Area\")\n",
    "            / pl.col(\"San Francisco\", \"Bay Area\").filter(\n",
    "                pl.col(\"race/ethnicity\") == \"Total:\"\n",
    "            ),\n",
    "            year=pl.lit(year),\n",
    "        )\n",
    "        .filter(pl.col(\"race/ethnicity\") != \"Total:\")\n",
    "        .melt(\n",
    "            id_vars=[\"race/ethnicity\", \"year\"],\n",
    "            value_vars=[\"San Francisco\", \"Bay Area\"],\n",
    "            variable_name=\"geography\",\n",
    "            value_name=\"population share\",\n",
    "        )\n",
    "    )\n",
    "\n",
    "\n",
    "def plot_geography(df, geography, legend=True):\n",
    "    return df.filter(pl.col(\"geography\") == geography).plot.bar(\n",
    "        x=\"year\",\n",
    "        y=\"population share\",\n",
    "        by=\"race/ethnicity\",\n",
    "        stacked=True,\n",
    "        title=geography,\n",
    "        # row=\"geography\",\n",
    "        frame_width=100,\n",
    "        frame_height=200,\n",
    "        # xticks=years,\n",
    "        legend=legend,\n",
    "    )"
   ]
  },
  {
   "cell_type": "code",
   "execution_count": null,
   "metadata": {},
   "outputs": [],
   "source": [
    "df = pl.concat([parse_raceethnicity_csv(dfs[y], y) for y in years])"
   ]
  },
  {
   "cell_type": "code",
   "execution_count": null,
   "metadata": {},
   "outputs": [],
   "source": [
    "sf_plot = plot_geography(df, \"San Francisco\", legend=False)\n",
    "bayarea_plot = plot_geography(df, \"Bay Area\")\n",
    "plot = sf_plot + bayarea_plot\n",
    "hvplot.save(plot, \"figs/race_ethnicity.png\")\n",
    "plot"
   ]
  }
 ],
 "metadata": {
  "kernelspec": {
   "display_name": "py3.11",
   "language": "python",
   "name": "python3"
  },
  "language_info": {
   "codemirror_mode": {
    "name": "ipython",
    "version": 3
   },
   "file_extension": ".py",
   "mimetype": "text/x-python",
   "name": "python",
   "nbconvert_exporter": "python",
   "pygments_lexer": "ipython3",
   "version": "3.12.3"
  }
 },
 "nbformat": 4,
 "nbformat_minor": 2
}
