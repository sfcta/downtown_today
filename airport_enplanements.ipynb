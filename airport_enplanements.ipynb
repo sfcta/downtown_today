{
 "cells": [
  {
   "cell_type": "code",
   "execution_count": null,
   "metadata": {},
   "outputs": [],
   "source": [
    "import altair as alt\n",
    "import polars as pl\n",
    "\n",
    "from utils import add_normalization_col\n"
   ]
  },
  {
   "cell_type": "code",
   "execution_count": null,
   "metadata": {},
   "outputs": [],
   "source": [
    "df = add_normalization_col(\n",
    "    pl.concat(\n",
    "        [\n",
    "            pl.read_csv(\n",
    "                r\"Q:\\Data\\PeerAgencyDashboards\\airports\\sfo-annual-updated250313.csv\",\n",
    "                columns=[\"year\", \"enplanements\"],\n",
    "            ).with_columns(airport=pl.lit(\"SFO\")),\n",
    "            pl.read_csv(\n",
    "                r\"Q:\\Data\\PeerAgencyDashboards\\airports\\oak-annual-updated250313.csv\",\n",
    "                columns=[\"year\", \"enplanements\"],\n",
    "            ).with_columns(airport=pl.lit(\"OAK\")),\n",
    "            pl.read_csv(\n",
    "                r\"Q:\\Data\\PeerAgencyDashboards\\airports\\sjc-annual-updated250313.csv\",\n",
    "                columns=[\"year\", \"enplanements\"],\n",
    "            ).with_columns(airport=pl.lit(\"SJC\")),\n",
    "        ]\n",
    "    ).filter(pl.col(\"year\") > 2017),\n",
    "    \"year\",\n",
    "    \"enplanements\",\n",
    "    \"enplanements (% of 2019 value)\",\n",
    ")\n",
    "df.write_csv(\"output/data/airport_enplanements.csv\")"
   ]
  },
  {
   "cell_type": "code",
   "execution_count": null,
   "metadata": {},
   "outputs": [],
   "source": [
    "chart = (\n",
    "    alt.Chart(df.with_columns(date=pl.date(pl.col(\"year\"), 1, 1)))\n",
    "    .mark_line()\n",
    "    .encode(\n",
    "        x=alt.X(\"date\", title=\"year\"),\n",
    "        y=alt.Y(\"enplanements\", title=\"airport enplanements\").axis(format=\"s\"),\n",
    "        color=alt.Color(\"airport\").scale(\n",
    "            domain=[\"SFO\", \"OAK\", \"SJC\"],\n",
    "            range=[\"#ff8d6d\", \"#d4d756\", \"#8cb8ca\"],\n",
    "        ),\n",
    "        tooltip=[\n",
    "            \"year\",\n",
    "            \"airport\",\n",
    "            \"enplanements\",\n",
    "            alt.Tooltip(\"enplanements (% of 2019 value)\", format=\".0%\"),\n",
    "        ],\n",
    "    )\n",
    ")\n",
    "chart.save(\"output/Links/airport_enplanements.png\")\n",
    "chart.properties(width=\"container\").save(\"output/Links/airport_enplanements.html\")\n",
    "chart\n"
   ]
  },
  {
   "cell_type": "code",
   "execution_count": null,
   "metadata": {},
   "outputs": [],
   "source": [
    "# For monthly data only:\n",
    "# plot = (\n",
    "#     df.group_by(\"Year\", \"Month\")\n",
    "#     .agg(pl.sum(\"Enplanements\"))\n",
    "#     .sort(\"Year\", \"Month\")\n",
    "#     .plot.line(\n",
    "#         x=\"Month\",\n",
    "#         y=\"Enplanements\",\n",
    "#         by=\"Year\",\n",
    "#         title=\"SFO enplanements\",\n",
    "#     )\n",
    "# )\n",
    "# hvplot.save(plot, \"output/Links/sfo_enplanements-year_on_year.html\")\n",
    "# hvplot.save(plot, \"output/Links/sfo_enplanements-year_on_year.png\")\n",
    "# plot"
   ]
  },
  {
   "cell_type": "code",
   "execution_count": null,
   "metadata": {},
   "outputs": [],
   "source": [
    "# For monthly data only:\n",
    "# plot = (\n",
    "#     df.with_columns(date=pl.date(pl.col(\"Year\"), pl.col(\"Month\"), 1))\n",
    "#     .group_by(\"date\")\n",
    "#     .agg(pl.sum(\"Enplanements\"))\n",
    "#     .sort(\"date\")\n",
    "#     .plot.line(\n",
    "#         x=\"date\",\n",
    "#         y=\"Enplanements\",\n",
    "#         title=\"SFO enplanements\",\n",
    "#     )\n",
    "# )\n",
    "# hvplot.save(plot, \"output/Links/sfo_enplanements-monthly.html\")\n",
    "# hvplot.save(plot, \"output/Links/sfo_enplanements-monthly.png\")\n",
    "# plot"
   ]
  }
 ],
 "metadata": {
  "kernelspec": {
   "display_name": "py312",
   "language": "python",
   "name": "python3"
  },
  "language_info": {
   "codemirror_mode": {
    "name": "ipython",
    "version": 3
   },
   "file_extension": ".py",
   "mimetype": "text/x-python",
   "name": "python",
   "nbconvert_exporter": "python",
   "pygments_lexer": "ipython3",
   "version": "3.12.3"
  }
 },
 "nbformat": 4,
 "nbformat_minor": 2
}
