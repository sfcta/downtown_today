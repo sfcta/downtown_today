{
 "cells": [
  {
   "cell_type": "code",
   "execution_count": null,
   "metadata": {},
   "outputs": [],
   "source": [
    "import altair as alt\n",
    "import polars as pl\n",
    "\n",
    "from altair_utils import color_value_transit_teal\n"
   ]
  },
  {
   "cell_type": "code",
   "execution_count": null,
   "metadata": {},
   "outputs": [],
   "source": [
    "df = pl.read_csv(\n",
    "    r\"Q:\\Data\\PeerAgencyDashboards\\SFO\\sfo-annual-updated250312.csv\"\n",
    ").filter(pl.col(\"year\") > 2017)\n",
    "df.write_csv(\"output/data/sfo_enplanements.csv\")\n"
   ]
  },
  {
   "cell_type": "code",
   "execution_count": null,
   "metadata": {},
   "outputs": [],
   "source": [
    "chart = (\n",
    "    alt.Chart(df.with_columns(date=pl.date(pl.col(\"year\"), 1, 1)))\n",
    "    .mark_line()\n",
    "    .encode(\n",
    "        x=alt.X(\"date\", title=\"year\"),\n",
    "        y=alt.Y(\"enplanements\", title=\"SFO enplanements\").axis(format=\"s\"),\n",
    "        color=color_value_transit_teal,\n",
    "        tooltip=[\"year\", \"enplanements\"],\n",
    "    )\n",
    ")\n",
    "chart.save(\"output/Links/sfo_enplanements.png\")\n",
    "chart.properties(width=\"container\").save(\"output/Links/sfo_enplanements.html\")\n",
    "chart\n"
   ]
  },
  {
   "cell_type": "code",
   "execution_count": null,
   "metadata": {},
   "outputs": [],
   "source": [
    "# For monthly data only:\n",
    "# plot = (\n",
    "#     df.group_by(\"Year\", \"Month\")\n",
    "#     .agg(pl.sum(\"Enplanements\"))\n",
    "#     .sort(\"Year\", \"Month\")\n",
    "#     .plot.line(\n",
    "#         x=\"Month\",\n",
    "#         y=\"Enplanements\",\n",
    "#         by=\"Year\",\n",
    "#         title=\"SFO enplanements\",\n",
    "#     )\n",
    "# )\n",
    "# hvplot.save(plot, \"output/Links/sfo_enplanements-year_on_year.html\")\n",
    "# hvplot.save(plot, \"output/Links/sfo_enplanements-year_on_year.png\")\n",
    "# plot"
   ]
  },
  {
   "cell_type": "code",
   "execution_count": null,
   "metadata": {},
   "outputs": [],
   "source": [
    "# For monthly data only:\n",
    "# plot = (\n",
    "#     df.with_columns(date=pl.date(pl.col(\"Year\"), pl.col(\"Month\"), 1))\n",
    "#     .group_by(\"date\")\n",
    "#     .agg(pl.sum(\"Enplanements\"))\n",
    "#     .sort(\"date\")\n",
    "#     .plot.line(\n",
    "#         x=\"date\",\n",
    "#         y=\"Enplanements\",\n",
    "#         title=\"SFO enplanements\",\n",
    "#     )\n",
    "# )\n",
    "# hvplot.save(plot, \"output/Links/sfo_enplanements-monthly.html\")\n",
    "# hvplot.save(plot, \"output/Links/sfo_enplanements-monthly.png\")\n",
    "# plot"
   ]
  }
 ],
 "metadata": {
  "kernelspec": {
   "display_name": "py312",
   "language": "python",
   "name": "python3"
  },
  "language_info": {
   "codemirror_mode": {
    "name": "ipython",
    "version": 3
   },
   "file_extension": ".py",
   "mimetype": "text/x-python",
   "name": "python",
   "nbconvert_exporter": "python",
   "pygments_lexer": "ipython3",
   "version": "3.12.3"
  }
 },
 "nbformat": 4,
 "nbformat_minor": 2
}
