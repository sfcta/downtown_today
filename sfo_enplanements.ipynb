{
 "cells": [
  {
   "cell_type": "code",
   "execution_count": null,
   "metadata": {},
   "outputs": [],
   "source": [
    "import hvplot.polars\n",
    "import polars as pl\n",
    "from bokeh.io import output_notebook\n",
    "\n",
    "output_notebook()"
   ]
  },
  {
   "cell_type": "code",
   "execution_count": null,
   "metadata": {},
   "outputs": [],
   "source": [
    "df = pl.read_csv(r\"Q:\\Data\\PeerAgencyDashboards\\SFO\\sfo-annual-updated240821.csv\")"
   ]
  },
  {
   "cell_type": "code",
   "execution_count": null,
   "metadata": {},
   "outputs": [],
   "source": [
    "plot = (\n",
    "    df.filter(pl.col(\"year\") > 2009)\n",
    "    # only need to group_by year if the data is monthly\n",
    "    # .group_by(\"year\")\n",
    "    # .agg(pl.sum(\"enplanements\"))\n",
    "    # .sort(\"year\")\n",
    "    .plot.line(\n",
    "        x=\"year\",\n",
    "        y=\"enplanements\",\n",
    "        xticks=df.select(\"year\").unique(),\n",
    "        title=\"SFO enplanements\",\n",
    "    )\n",
    ")\n",
    "hvplot.save(plot, \"output/Links/sfo_enplanements-annual-2010.html\")\n",
    "hvplot.save(plot, \"output/Links/sfo_enplanements-annual-2010.png\")\n",
    "plot"
   ]
  },
  {
   "cell_type": "code",
   "execution_count": null,
   "metadata": {},
   "outputs": [],
   "source": [
    "plot = (\n",
    "    df.filter(pl.col(\"year\") > 2017)\n",
    "    # only need to group_by year if the data is monthly\n",
    "    # .group_by(\"year\")\n",
    "    # .agg(pl.sum(\"enplanements\"))\n",
    "    # .sort(\"year\")\n",
    "    .plot.line(\n",
    "        x=\"year\",\n",
    "        y=\"enplanements\",\n",
    "        xticks=df.select(\"year\").unique(),\n",
    "        title=\"SFO enplanements\",\n",
    "    )\n",
    ")\n",
    "hvplot.save(plot, \"output/Links/sfo_enplanements-annual.html\")\n",
    "hvplot.save(plot, \"output/Links/sfo_enplanements-annual.png\")\n",
    "plot\n"
   ]
  },
  {
   "cell_type": "code",
   "execution_count": null,
   "metadata": {},
   "outputs": [],
   "source": [
    "# For monthly data only:\n",
    "# plot = (\n",
    "#     df.group_by(\"Year\", \"Month\")\n",
    "#     .agg(pl.sum(\"Enplanements\"))\n",
    "#     .sort(\"Year\", \"Month\")\n",
    "#     .plot.line(\n",
    "#         x=\"Month\",\n",
    "#         y=\"Enplanements\",\n",
    "#         by=\"Year\",\n",
    "#         title=\"SFO enplanements\",\n",
    "#     )\n",
    "# )\n",
    "# hvplot.save(plot, \"output/Links/sfo_enplanements-year_on_year.html\")\n",
    "# hvplot.save(plot, \"output/Links/sfo_enplanements-year_on_year.png\")\n",
    "# plot\n",
    "\n"
   ]
  },
  {
   "cell_type": "code",
   "execution_count": null,
   "metadata": {},
   "outputs": [],
   "source": [
    "# For monthly data only:\n",
    "# plot = (\n",
    "#     df.with_columns(date=pl.date(pl.col(\"Year\"), pl.col(\"Month\"), 1))\n",
    "#     .group_by(\"date\")\n",
    "#     .agg(pl.sum(\"Enplanements\"))\n",
    "#     .sort(\"date\")\n",
    "#     .plot.line(\n",
    "#         x=\"date\",\n",
    "#         y=\"Enplanements\",\n",
    "#         title=\"SFO enplanements\",\n",
    "#     )\n",
    "# )\n",
    "# hvplot.save(plot, \"output/Links/sfo_enplanements-monthly.html\")\n",
    "# hvplot.save(plot, \"output/Links/sfo_enplanements-monthly.png\")\n",
    "# plot\n",
    "\n"
   ]
  }
 ],
 "metadata": {
  "kernelspec": {
   "display_name": "py312",
   "language": "python",
   "name": "python3"
  },
  "language_info": {
   "codemirror_mode": {
    "name": "ipython",
    "version": 3
   },
   "file_extension": ".py",
   "mimetype": "text/x-python",
   "name": "python",
   "nbconvert_exporter": "python",
   "pygments_lexer": "ipython3",
   "version": "3.12.3"
  }
 },
 "nbformat": 4,
 "nbformat_minor": 2
}
