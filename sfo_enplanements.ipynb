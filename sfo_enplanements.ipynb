{
 "cells": [
  {
   "cell_type": "code",
   "execution_count": null,
   "metadata": {},
   "outputs": [],
   "source": [
    "import hvplot.polars\n",
    "import polars as pl\n",
    "from bokeh.io import output_notebook\n",
    "\n",
    "output_notebook()"
   ]
  },
  {
   "cell_type": "code",
   "execution_count": null,
   "metadata": {},
   "outputs": [],
   "source": [
    "df = pl.read_csv(\n",
    "    r\"Q:\\Data\\PeerAgencyDashboards\\SFCity-EconRecovery\\sfo_enplanements-monthly-updated240614.csv\",\n",
    ").with_columns(pl.col(\"Enplanements\").str.replace_all(\",\", \"\").cast(int))"
   ]
  },
  {
   "cell_type": "code",
   "execution_count": null,
   "metadata": {},
   "outputs": [],
   "source": [
    "plot = (\n",
    "    df.group_by(\"Year\")\n",
    "    .agg(pl.sum(\"Enplanements\"))\n",
    "    .sort(\"Year\")\n",
    "    .plot.line(\n",
    "        x=\"Year\",\n",
    "        y=\"Enplanements\",\n",
    "        xlim=(2019, 2023),\n",
    "        xticks=df.select(\"Year\").unique(),\n",
    "        title=\"SFO enplanements\",\n",
    "    )\n",
    ")\n",
    "hvplot.save(plot, \"output/Links/sfo_enplanements-annual.png\")\n",
    "plot"
   ]
  },
  {
   "cell_type": "code",
   "execution_count": null,
   "metadata": {},
   "outputs": [],
   "source": [
    "# plot = (\n",
    "#     df.group_by(\"Year\", \"Month\")\n",
    "#     .agg(pl.sum(\"Enplanements\"))\n",
    "#     .sort(\"Year\", \"Month\")\n",
    "#     .plot.line(\n",
    "#         x=\"Month\",\n",
    "#         y=\"Enplanements\",\n",
    "#         by=\"Year\",\n",
    "#         title=\"SFO enplanements\",\n",
    "#     )\n",
    "# )\n",
    "# hvplot.save(plot, \"output/Links/sfo_enplanements-year_on_year.png\")\n",
    "# plot"
   ]
  },
  {
   "cell_type": "code",
   "execution_count": null,
   "metadata": {},
   "outputs": [],
   "source": [
    "# plot = (\n",
    "#     df.with_columns(date=pl.date(pl.col(\"Year\"), pl.col(\"Month\"), 1))\n",
    "#     .group_by(\"date\")\n",
    "#     .agg(pl.sum(\"Enplanements\"))\n",
    "#     .sort(\"date\")\n",
    "#     .plot.line(\n",
    "#         x=\"date\",\n",
    "#         y=\"Enplanements\",\n",
    "#         title=\"SFO enplanements\",\n",
    "#     )\n",
    "# )\n",
    "# hvplot.save(plot, \"output/Links/sfo_enplanements-monthly.png\")\n",
    "# plot"
   ]
  }
 ],
 "metadata": {
  "kernelspec": {
   "display_name": "py312",
   "language": "python",
   "name": "python3"
  },
  "language_info": {
   "codemirror_mode": {
    "name": "ipython",
    "version": 3
   },
   "file_extension": ".py",
   "mimetype": "text/x-python",
   "name": "python",
   "nbconvert_exporter": "python",
   "pygments_lexer": "ipython3",
   "version": "3.12.3"
  }
 },
 "nbformat": 4,
 "nbformat_minor": 2
}
