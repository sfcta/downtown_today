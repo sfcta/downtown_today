{
 "cells": [
  {
   "cell_type": "code",
   "execution_count": 2,
   "metadata": {},
   "outputs": [],
   "source": [
    "%load_ext autoreload"
   ]
  },
  {
   "cell_type": "code",
   "execution_count": 8,
   "metadata": {},
   "outputs": [],
   "source": [
    "from pathlib import Path\n",
    "\n",
    "import altair as alt\n",
    "import polars as pl\n",
    "\n",
    "%autoreload"
   ]
  },
  {
   "cell_type": "code",
   "execution_count": 4,
   "metadata": {},
   "outputs": [],
   "source": [
    "dir = Path(r\"Q:\\Data\\PeerAgencyDashboards\\MTC-VitalSigns\")\n",
    "region_df = pl.read_csv(\n",
    "    dir\n",
    "    / \"Commute Mode Choice - Commute Mode Choice for the Region and Counties - Region (by place of residence) - downloaded 240522 - manual edits 241017 for 2023.csv\"\n",
    ")\n",
    "county_df = pl.read_csv(\n",
    "    dir\n",
    "    / \"Commute Mode Choice - Commute Mode Choice for the Region and Counties - County (by place of residence) - downloaded 240522 - manual edits 240912-241017 for SF 2022-2023.csv\"\n",
    ")"
   ]
  },
  {
   "cell_type": "code",
   "execution_count": 65,
   "metadata": {},
   "outputs": [],
   "source": [
    "def group_modes(df):\n",
    "    return (\n",
    "        df.with_columns(\n",
    "            mode=pl.when(pl.col(\"mode\").is_in({\"Drive Alone\", \"Carpool\"}))\n",
    "            .then(pl.lit(\"Automobile\"))\n",
    "            .when(pl.col(\"mode\").is_in({\"Walk\", \"Other\"}))\n",
    "            .then(pl.lit(\"Walk, Bike, and Other\"))\n",
    "            .otherwise(pl.col(\"mode\"))\n",
    "        )\n",
    "        .group_by(\"year\", \"geography\", \"data_type\", \"mode\")\n",
    "        .agg(pl.sum(\"share\"))\n",
    "        .sort(\"year\")\n",
    "    )\n",
    "\n",
    "\n",
    "def plot_geography(df, geography):\n",
    "    # visually, an area plot is better, but it doesn't work with the tooltip...\n",
    "    # use bar instead if we want to have a functioning tooltip\n",
    "    return (\n",
    "        alt.Chart(df.with_columns(date=pl.date(pl.col(\"year\"), 1, 1)))\n",
    "        .mark_line()\n",
    "        .encode(\n",
    "            x=alt.X(\"date\", title=\"year\"),\n",
    "            y=alt.Y(\"share\").axis(format=\"%\"),\n",
    "            color=\"mode\",\n",
    "            # color=alt.Color(\"mode\").scale(  # TODO\n",
    "            #     domain=[\n",
    "            #         \"Automobile\",\n",
    "            #         \"Transit\",\n",
    "            #         \"Walk, Bike, and Other\",\n",
    "            #         \"Work From Home\",\n",
    "            #     ],\n",
    "            #     range=j,\n",
    "            # ),\n",
    "            tooltip=[\"year\", \"geography\", \"mode\", alt.Tooltip(\"share\", format=\".1%\")],\n",
    "        )\n",
    "        .properties(title=geography)\n",
    "    )\n"
   ]
  },
  {
   "cell_type": "code",
   "execution_count": 63,
   "metadata": {},
   "outputs": [],
   "source": [
    "df = group_modes(\n",
    "    pl.concat(\n",
    "        [\n",
    "            county_df.filter(\n",
    "                (pl.col(\"year\") > 2017) & (pl.col(\"county\") == \"San Francisco County\")\n",
    "            )\n",
    "            .with_columns(geography=pl.lit(\"San Francisco\"))\n",
    "            .drop(\"county\"),\n",
    "            region_df.filter(pl.col(\"year\") > 2017)\n",
    "            .with_columns(geography=pl.lit(\"Bay Area\"))\n",
    "            .drop(\"region\"),\n",
    "        ]\n",
    "    )\n",
    ")\n",
    "df.write_csv(\"output/data/commute_mode_choice.csv\")\n"
   ]
  },
  {
   "cell_type": "code",
   "execution_count": null,
   "metadata": {},
   "outputs": [],
   "source": [
    "sf_plot = plot_geography(\n",
    "    df.filter(pl.col(\"geography\") == \"San Francisco\"),\n",
    "    \"San Francisco\",\n",
    ")\n",
    "bayarea_plot = plot_geography(df.filter(pl.col(\"geography\") == \"Bay Area\"), \"Bay Area\")\n",
    "plot = sf_plot | bayarea_plot\n",
    "plot.save(\"output/Links/commute_mode_choice.html\")\n",
    "plot.save(\"output/Links/commute_mode_choice.png\")\n",
    "plot"
   ]
  }
 ],
 "metadata": {
  "kernelspec": {
   "display_name": "py312",
   "language": "python",
   "name": "python3"
  },
  "language_info": {
   "codemirror_mode": {
    "name": "ipython",
    "version": 3
   },
   "file_extension": ".py",
   "mimetype": "text/x-python",
   "name": "python",
   "nbconvert_exporter": "python",
   "pygments_lexer": "ipython3",
   "version": "3.12.3"
  }
 },
 "nbformat": 4,
 "nbformat_minor": 2
}
