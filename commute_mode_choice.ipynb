{
 "cells": [
  {
   "cell_type": "code",
   "execution_count": null,
   "metadata": {},
   "outputs": [],
   "source": [
    "from pathlib import Path\n",
    "\n",
    "import hvplot.polars\n",
    "import polars as pl\n",
    "\n",
    "hvplot.extension(\"bokeh\")"
   ]
  },
  {
   "cell_type": "code",
   "execution_count": null,
   "metadata": {},
   "outputs": [],
   "source": [
    "dir = Path(r\"Q:\\Data\\PeerAgencyDashboards\\MTC-VitalSigns\")\n",
    "region_df = pl.read_csv(\n",
    "    dir\n",
    "    / \"Commute Mode Choice - Commute Mode Choice for the Region and Counties - Region (by place of residence) - downloaded 240522.csv\"\n",
    ")\n",
    "county_df = pl.read_csv(\n",
    "    dir\n",
    "    / \"Commute Mode Choice - Commute Mode Choice for the Region and Counties - County (by place of residence) - downloaded 240522.csv\"\n",
    ")"
   ]
  },
  {
   "cell_type": "code",
   "execution_count": null,
   "metadata": {},
   "outputs": [],
   "source": [
    "def plot_geography(df, geography, legend=True):\n",
    "    # visually, an area plot is better, but it doesn't work with the tooltip...\n",
    "    # use bar instead if we want to have a functioning tooltip\n",
    "    return df.plot.area(\n",
    "        x=\"year\",\n",
    "        y=\"share\",\n",
    "        by=\"mode\",\n",
    "        stacked=True,\n",
    "        title=geography,\n",
    "        # row=\"geography\",\n",
    "        frame_width=250,\n",
    "        frame_height=200,\n",
    "        legend=legend,\n",
    "    )\n"
   ]
  },
  {
   "cell_type": "code",
   "execution_count": null,
   "metadata": {},
   "outputs": [],
   "source": [
    "sf_plot = plot_geography(\n",
    "    county_df.filter(\n",
    "        (pl.col(\"year\") > 2012) & (pl.col(\"county\") == \"San Francisco County\")\n",
    "    ),\n",
    "    \"San Francisco\",\n",
    "    legend=False,\n",
    ")\n",
    "bayarea_plot = plot_geography(region_df.filter(pl.col(\"year\") > 2012), \"Bay Area\")\n",
    "plot = sf_plot + bayarea_plot\n",
    "hvplot.save(plot, \"figs/commute_mode_choice.png\")\n",
    "plot"
   ]
  }
 ],
 "metadata": {
  "kernelspec": {
   "display_name": "py3.11",
   "language": "python",
   "name": "python3"
  },
  "language_info": {
   "codemirror_mode": {
    "name": "ipython",
    "version": 3
   },
   "file_extension": ".py",
   "mimetype": "text/x-python",
   "name": "python",
   "nbconvert_exporter": "python",
   "pygments_lexer": "ipython3",
   "version": "3.12.3"
  }
 },
 "nbformat": 4,
 "nbformat_minor": 2
}
