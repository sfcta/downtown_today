{
 "cells": [
  {
   "cell_type": "code",
   "execution_count": null,
   "metadata": {},
   "outputs": [],
   "source": [
    "%load_ext autoreload"
   ]
  },
  {
   "cell_type": "code",
   "execution_count": null,
   "metadata": {},
   "outputs": [],
   "source": [
    "import altair as alt\n",
    "import polars as pl\n",
    "\n",
    "%autoreload\n",
    "from altair_utils import (\n",
    "    color_line_yellow_purple,\n",
    "    line_strokeDash,\n",
    ")"
   ]
  },
  {
   "cell_type": "code",
   "execution_count": null,
   "metadata": {},
   "outputs": [],
   "source": [
    "df = pl.read_csv(r\"Q:\\Model Research\\downtown_today\\accommodation.csv\")"
   ]
  },
  {
   "cell_type": "code",
   "execution_count": null,
   "metadata": {},
   "outputs": [],
   "source": [
    "occupancy = df.select(\"year\", \"type\", \"occupancy rate\")\n",
    "supplydemand = (\n",
    "    df.select(\"year\", \"type\", \"supply (nights)\", \"demand (nights)\")\n",
    "    .rename({\"supply (nights)\": \"supply\", \"demand (nights)\": \"demand\"})\n",
    "    .unpivot(\n",
    "        index=[\"year\", \"type\"],\n",
    "        on=[\"supply\", \"demand\"],\n",
    "        variable_name=\"supply/demand\",\n",
    "        value_name=\"nights\",\n",
    "    )\n",
    ")"
   ]
  },
  {
   "cell_type": "code",
   "execution_count": null,
   "metadata": {},
   "outputs": [],
   "source": [
    "occupancy_chart = (\n",
    "    alt.Chart(occupancy.with_columns(date=pl.date(pl.col(\"year\"), 1, 1)).sort(\"year\"))\n",
    "    .mark_line()\n",
    "    .encode(\n",
    "        x=alt.X(\"date\", title=\"year\"),\n",
    "        y=alt.Y(\"occupancy rate\", title=\"SF accommodation occupancy rate\").axis(\n",
    "            format=\"%\"\n",
    "        ),\n",
    "        # color=color_value_transit_teal,\n",
    "        color=alt.Color(\"type\").scale(\n",
    "            # domain=[\"supply\", \"demand\"],\n",
    "            range=color_line_yellow_purple,\n",
    "        ),\n",
    "        # strokeDash=alt.StrokeDash(\"type\").scale(range=line_strokeDash),\n",
    "        tooltip=[\"year\", \"type\", \"occupancy rate\"],\n",
    "    )\n",
    ")\n",
    "occupancy_chart.save(\"output/Links/accommodation-occupancy.png\", scale_factor=3)\n",
    "occupancy_chart.properties(width=\"container\").save(\n",
    "    \"output/Links/accommodation-occupancy.html\"\n",
    ")\n",
    "occupancy_chart\n"
   ]
  },
  {
   "cell_type": "code",
   "execution_count": null,
   "metadata": {},
   "outputs": [],
   "source": [
    "supplydemand_chart = (\n",
    "    alt.Chart(\n",
    "        supplydemand.with_columns(date=pl.date(pl.col(\"year\"), 1, 1)).sort(\"year\")\n",
    "    )\n",
    "    .mark_line()\n",
    "    .encode(\n",
    "        x=alt.X(\"date\", title=\"year\"),\n",
    "        y=alt.Y(\"nights\", title=\"SF accommodation supply/demand (nights)\"),\n",
    "        color=alt.Color(\"type\").scale(\n",
    "            # domain=[\"supply\", \"demand\"],\n",
    "            range=color_line_yellow_purple,\n",
    "        ),\n",
    "        strokeDash=alt.StrokeDash(\"supply/demand\").scale(\n",
    "            domain=[\"supply\", \"demand\"], range=line_strokeDash\n",
    "        ),\n",
    "        tooltip=[\"year\", \"type\", \"supply/demand\", \"nights\"],\n",
    "    )\n",
    ")\n",
    "supplydemand_chart.save(\"output/Links/accommodation-supplydemand.png\", scale_factor=3)\n",
    "supplydemand_chart.properties(width=\"container\").save(\n",
    "    \"output/Links/accommodation-supplydemand.html\"\n",
    ")\n",
    "supplydemand_chart.interactive()\n"
   ]
  }
 ],
 "metadata": {
  "kernelspec": {
   "display_name": "py312",
   "language": "python",
   "name": "python3"
  },
  "language_info": {
   "codemirror_mode": {
    "name": "ipython",
    "version": 3
   },
   "file_extension": ".py",
   "mimetype": "text/x-python",
   "name": "python",
   "nbconvert_exporter": "python",
   "pygments_lexer": "ipython3",
   "version": "3.12.3"
  }
 },
 "nbformat": 4,
 "nbformat_minor": 2
}
