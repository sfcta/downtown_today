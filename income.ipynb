{
 "cells": [
  {
   "cell_type": "code",
   "execution_count": 1,
   "metadata": {},
   "outputs": [],
   "source": [
    "%load_ext autoreload"
   ]
  },
  {
   "cell_type": "code",
   "execution_count": 8,
   "metadata": {},
   "outputs": [],
   "source": [
    "import altair as alt\n",
    "import polars as pl\n",
    "\n",
    "%autoreload\n",
    "from altair_utils import color_sf_bayarea\n",
    "from utils import line_plot_normalized"
   ]
  },
  {
   "cell_type": "code",
   "execution_count": 3,
   "metadata": {},
   "outputs": [],
   "source": [
    "df = (\n",
    "    pl.read_csv(\n",
    "        r\"Q:\\Model Research\\downtown_today\\census\\ACS\\B19081-MeanHouseholdIncomeOfQuintiles.csv\"\n",
    "    )\n",
    "    .with_columns(\n",
    "        pl.col(\"geography\").replace(\n",
    "            {\"San Jose-San Francisco-Oakland CSA\": \"SJ-SF-Oakland CSA\"}\n",
    "        )\n",
    "    )\n",
    "    .rename({\"mean household income of quintiles\": \"mean household income\"})\n",
    "    .sort(\"year\")\n",
    ")"
   ]
  },
  {
   "cell_type": "code",
   "execution_count": null,
   "metadata": {},
   "outputs": [],
   "source": [
    "def plot_quintile_mean(df, quintile):\n",
    "    return (\n",
    "        alt.Chart(\n",
    "            df.filter(pl.col(\"quintile\") == quintile).with_columns(\n",
    "                date=pl.date(pl.col(\"year\"), 1, 1)\n",
    "            )\n",
    "        )\n",
    "        .mark_line(strokeWidth=1.5)\n",
    "        .encode(\n",
    "            x=alt.X(\n",
    "                \"date\",\n",
    "                title=\"year\",\n",
    "            ),\n",
    "            y=alt.Y(\n",
    "                \"mean household income\", title=\"mean household income of quintiles\"\n",
    "            ),\n",
    "            color=alt.Color(\"geography\").scale(\n",
    "                domain=[\"San Francisco\", \"SJ-SF-Oakland CSA\"],\n",
    "                range=color_sf_bayarea,\n",
    "            ),\n",
    "            # strokeDash=\"Quintile\",\n",
    "            tooltip=[\"year\", \"geography\", \"quintile\", \"mean household income\"],\n",
    "        )\n",
    "    )\n",
    "\n",
    "\n",
    "chart = alt.layer(*(plot_quintile_mean(df, i) for i in range(1, 6))).interactive()\n",
    "chart.save(\"output/Links/income.png\")\n",
    "chart.properties(width=\"container\").save(\"output/Links/income.html\")\n",
    "chart"
   ]
  },
  {
   "cell_type": "code",
   "execution_count": null,
   "metadata": {},
   "outputs": [],
   "source": [
    "sf_normalized_df, sf_normalized_chart = line_plot_normalized(\n",
    "    df.filter(\n",
    "        # filter out the regional lines; too cluttered otherwise\n",
    "        (pl.col(\"geography\") == \"San Francisco\") & (pl.col(\"year\") > 2018)\n",
    "    ),\n",
    "    x=\"year\",\n",
    "    y=\"mean household income\",\n",
    "    title=\"San Francisco mean household income of quintiles\",\n",
    "    color=\"quintile:O\",\n",
    "    # mark_line_args={\"strokeWidth\": 1.5},\n",
    "    # chart_args={\"strokeDash\": \"Quintile\"},\n",
    "    tooltip=[\"year\", \"geography\", \"quintile\", \"mean household income\"],\n",
    ")\n",
    "sf_normalized_df.write_csv(\"output/data/income-sf-2019norm.csv\")\n",
    "sf_normalized_chart.save(\"output/Links/income-sf-2019norm.png\")\n",
    "sf_normalized_chart.properties(width=\"container\").save(\n",
    "    \"output/Links/income-sf-2019norm.html\"\n",
    ")\n",
    "sf_normalized_chart"
   ]
  },
  {
   "cell_type": "code",
   "execution_count": null,
   "metadata": {},
   "outputs": [],
   "source": [
    "csa_normalized_df, csa_normalized_chart = line_plot_normalized(\n",
    "    df.filter(\n",
    "        # filter out the regional lines; too cluttered otherwise\n",
    "        (pl.col(\"geography\") == \"SJ-SF-Oakland CSA\") & (pl.col(\"year\") > 2018)\n",
    "    ),\n",
    "    x=\"year\",\n",
    "    y=\"mean household income\",\n",
    "    title=\"SJ-SF-Oakland CSA mean household income of quintiles\",\n",
    "    color=\"quintile:O\",\n",
    "    # mark_line_args={\"strokeWidth\": 1.5},\n",
    "    # chart_args={\"strokeDash\": \"Quintile\"},\n",
    "    tooltip=[\"year\", \"geography\", \"quintile\", \"mean household income\"],\n",
    ")\n",
    "csa_normalized_df.write_csv(\"output/data/income-csa-2019norm.csv\")\n",
    "csa_normalized_chart.save(\"output/Links/income-csa-2019norm.png\")\n",
    "csa_normalized_chart.properties(width=\"container\").save(\n",
    "    \"output/Links/income-csa-2019norm.html\"\n",
    ")\n",
    "csa_normalized_chart"
   ]
  }
 ],
 "metadata": {
  "kernelspec": {
   "display_name": "py312",
   "language": "python",
   "name": "python3"
  },
  "language_info": {
   "codemirror_mode": {
    "name": "ipython",
    "version": 3
   },
   "file_extension": ".py",
   "mimetype": "text/x-python",
   "name": "python",
   "nbconvert_exporter": "python",
   "pygments_lexer": "ipython3",
   "version": "3.12.3"
  }
 },
 "nbformat": 4,
 "nbformat_minor": 2
}
