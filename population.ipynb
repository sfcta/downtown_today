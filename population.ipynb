{
 "cells": [
  {
   "cell_type": "code",
   "execution_count": null,
   "metadata": {},
   "outputs": [],
   "source": [
    "%load_ext autoreload"
   ]
  },
  {
   "cell_type": "code",
   "execution_count": null,
   "metadata": {},
   "outputs": [],
   "source": [
    "from pathlib import Path\n",
    "\n",
    "import altair as alt\n",
    "import pandas as pd\n",
    "import polars as pl\n",
    "\n",
    "%autoreload\n",
    "from utils import add_normalization_col\n"
   ]
  },
  {
   "cell_type": "code",
   "execution_count": null,
   "metadata": {},
   "outputs": [],
   "source": [
    "dir = Path(\"Q:/Data/Surveys/Census/population_and_housing_unit/parsed\")\n",
    "csv_filepath = dir / \"population_estimate-as_of_July1.csv\""
   ]
  },
  {
   "cell_type": "code",
   "execution_count": null,
   "metadata": {},
   "outputs": [],
   "source": [
    "def to_long(wide_df, value_name):\n",
    "    return wide_df.melt(\n",
    "        id_vars=\"geography\", variable_name=\"year\", value_name=value_name\n",
    "    ).with_columns(pl.col(\"year\").cast(int))\n",
    "\n",
    "\n",
    "def to_pandas_for_altair(long_df):\n",
    "    # need to convert year to date(time) for plotting the year axis in altair\n",
    "    # cast to pandas for altair\n",
    "    return long_df.with_columns(date=pl.date(pl.col(\"year\"), 7, 1)).to_pandas()\n",
    "\n",
    "\n",
    "def transpose(wide_df):\n",
    "    return (\n",
    "        wide_df.drop(\"geography\")\n",
    "        .transpose(include_header=True, header_name=\"year\")\n",
    "        .rename(\n",
    "            {f\"column_{i}\": wide_df.select(\"geography\").item(i, 0) for i in range(2)}\n",
    "        )\n",
    "        .with_columns(pl.col(\"year\").cast(int))\n",
    "    )\n",
    "\n",
    "\n",
    "def plot_altair(long_df, y_column, y_title, y_show_zero=True):\n",
    "    chart = (\n",
    "        alt.Chart(to_pandas_for_altair(long_df))\n",
    "        .mark_line()\n",
    "        .encode(\n",
    "            # 'date', not 'year', as the data are as of July 1 and plotted as such\n",
    "            alt.X(\"date:T\"),  # .title(\"year\"),\n",
    "            alt.Y(f\"{y_column}:Q\").title(y_title).scale(zero=y_show_zero),\n",
    "            color=alt.Color(\"geography:N\"),\n",
    "            tooltip=[\n",
    "                \"year:Q\",\n",
    "                \"geography:N\",\n",
    "                f\"{y_column}:Q\",\n",
    "            ],\n",
    "        )\n",
    "    )\n",
    "    # add vertical bar at 2020, because:\n",
    "    # 'data from separate vintages should not be combined' (US Census),\n",
    "    # and each vintage runs for the full decade (e.g. 2010-2019)\n",
    "    rule = (\n",
    "        alt.Chart(pd.DataFrame({\"date\": [\"2020-01-01\"], \"color\": [\"grey\"]}))\n",
    "        .mark_rule()\n",
    "        .encode(\n",
    "            # 'date', not 'year', as the data are as of July 1 and plotted as such\n",
    "            alt.X(\"date:T\"),  # .title(\"year\"),\n",
    "            color=alt.Color(\"color\", scale=None),\n",
    "        )\n",
    "    )\n",
    "    return chart + rule"
   ]
  },
  {
   "cell_type": "code",
   "execution_count": null,
   "metadata": {},
   "outputs": [],
   "source": [
    "value_name_short = \"population\"\n",
    "wide_df = pl.read_csv(csv_filepath)\n",
    "long_df = to_long(wide_df, value_name_short)\n"
   ]
  },
  {
   "cell_type": "code",
   "execution_count": null,
   "metadata": {},
   "outputs": [],
   "source": [
    "wide_df.select(\n",
    "    \"geography\",\n",
    "    # CAUTION: US Census says do not compare values across vintages,\n",
    "    # so comparing 2023 with 2019 is inappropriate\n",
    "    (1 - pl.col(\"2023\") / pl.col(\"2019\")).alias(\"change 2019 to 2023\"),\n",
    "    (1 - pl.col(\"2023\") / pl.col(\"2020\")).alias(\"change 2020 to 2023\"),\n",
    ")\n",
    "# For SF, present it as a 7-8% decrease from pre-COVID population"
   ]
  },
  {
   "cell_type": "code",
   "execution_count": null,
   "metadata": {},
   "outputs": [],
   "source": [
    "chart = plot_altair(\n",
    "    long_df, value_name_short, \"population estimate (as of July 1)\"\n",
    ") | plot_altair(\n",
    "    add_normalization_col(\n",
    "        long_df,\n",
    "        \"year\",\n",
    "        value_name_short,\n",
    "        f\"{value_name_short}-normalized_to_2019\",\n",
    "        norm_x_value=2019,\n",
    "    ),\n",
    "    f\"{value_name_short}-normalized_to_2019\",\n",
    "    \"population estimate (as of July 1, normalized to 2019)\",\n",
    "    y_show_zero=False,\n",
    ")\n",
    "chart.save(dir / \"population_estimate-as_of_July1-2010-2023.png\")\n",
    "chart.interactive()\n"
   ]
  }
 ],
 "metadata": {
  "kernelspec": {
   "display_name": "py3.11",
   "language": "python",
   "name": "python3"
  },
  "language_info": {
   "codemirror_mode": {
    "name": "ipython",
    "version": 3
   },
   "file_extension": ".py",
   "mimetype": "text/x-python",
   "name": "python",
   "nbconvert_exporter": "python",
   "pygments_lexer": "ipython3",
   "version": "3.12.3"
  }
 },
 "nbformat": 4,
 "nbformat_minor": 2
}
