{
 "cells": [
  {
   "cell_type": "code",
   "execution_count": null,
   "metadata": {},
   "outputs": [],
   "source": [
    "%load_ext autoreload"
   ]
  },
  {
   "cell_type": "code",
   "execution_count": null,
   "metadata": {},
   "outputs": [],
   "source": [
    "import altair as alt\n",
    "import polars as pl\n",
    "\n",
    "from altair_utils import color_value_transit_teal"
   ]
  },
  {
   "cell_type": "code",
   "execution_count": null,
   "metadata": {},
   "outputs": [],
   "source": [
    "weekly_df = (\n",
    "    pl.read_csv(\n",
    "        r\"Q:\\Data\\PeerAgencyDashboards\\SFCity-EconRecovery\\office_attendance-weekly-updated241125.csv\"\n",
    "    )\n",
    "    .select(\n",
    "        (pl.col(\"San Francisco\").str.strip_chars_end(\"%\").cast(int) / 100).alias(\n",
    "            \"office attendance\"\n",
    "        ),\n",
    "        date=pl.col(\"Week\").str.to_date(\"%m/%d/%Y\"),\n",
    "    )\n",
    "    .with_columns(\n",
    "        year=pl.col(\"date\").dt.year(),\n",
    "        month=pl.col(\"date\").dt.month(),\n",
    "        quarter=pl.col(\"date\").dt.quarter(),\n",
    "    )\n",
    ")"
   ]
  },
  {
   "cell_type": "code",
   "execution_count": null,
   "metadata": {},
   "outputs": [],
   "source": [
    "monthly_df = (\n",
    "    weekly_df.filter(\n",
    "        pl.col(\"date\") < pl.date(2024, 11, 1)\n",
    "    )  # incomplete data for Nov 2024\n",
    "    .group_by(\"year\", \"month\")\n",
    "    .agg(pl.mean(\"office attendance\"))\n",
    "    .sort(\"year\", \"month\")\n",
    "    .with_columns(date=pl.date(\"year\", \"month\", 1))\n",
    ")\n",
    "quarterly_df = (\n",
    "    weekly_df.filter(\n",
    "        (pl.date(2020, 4, 1) <= pl.col(\"date\"))\n",
    "        & (pl.col(\"date\") < pl.date(2024, 10, 1))\n",
    "    )\n",
    "    .group_by(\"year\", \"quarter\")\n",
    "    .agg(pl.min(\"month\"), pl.mean(\"office attendance\"))\n",
    "    .sort(\"year\", \"quarter\")\n",
    "    .with_columns(date=pl.date(\"year\", \"month\", 1))\n",
    ")"
   ]
  },
  {
   "cell_type": "code",
   "execution_count": null,
   "metadata": {},
   "outputs": [],
   "source": [
    "(\n",
    "    alt.Chart(weekly_df)\n",
    "    .mark_line()\n",
    "    .encode(\n",
    "        x=\"date\",\n",
    "        y=alt.Y(\"office attendance\").axis(format=\"%\"),\n",
    "        color=color_value_transit_teal,\n",
    "        tooltip=[\n",
    "            alt.Tooltip(\"date\", title=\"week of\"),\n",
    "            alt.Tooltip(\"office attendance\", format=\".0%\"),\n",
    "        ],\n",
    "    )\n",
    ")"
   ]
  },
  {
   "cell_type": "code",
   "execution_count": null,
   "metadata": {},
   "outputs": [],
   "source": [
    "monthly_df.write_csv(\"output/data/office_attendance.csv\")\n",
    "chart = (\n",
    "    alt.Chart(monthly_df)\n",
    "    .mark_line()\n",
    "    .encode(\n",
    "        x=alt.X(\"date\", timeUnit=\"yearmonth\", title=\"date\"),\n",
    "        y=alt.Y(\"office attendance\").axis(format=\"%\"),\n",
    "        color=color_value_transit_teal,\n",
    "        tooltip=[\"year\", \"month\", alt.Tooltip(\"office attendance\", format=\".0%\")],\n",
    "    )\n",
    ")\n",
    "chart.properties(width=\"container\").save(\"output/Links/office_attendance.html\")\n",
    "chart.save(\"output/Links/office_attendance.png\", scale_factor=3)\n",
    "chart"
   ]
  },
  {
   "cell_type": "code",
   "execution_count": null,
   "metadata": {},
   "outputs": [],
   "source": [
    "(\n",
    "    alt.Chart(quarterly_df)\n",
    "    .mark_line()\n",
    "    .encode(\n",
    "        x=\"date\",\n",
    "        y=alt.Y(\"office attendance\").axis(format=\"%\"),\n",
    "        color=color_value_transit_teal,\n",
    "        tooltip=[\"year\", \"quarter\", alt.Tooltip(\"office attendance\", format=\".0%\")],\n",
    "    )\n",
    ")"
   ]
  }
 ],
 "metadata": {
  "kernelspec": {
   "display_name": "py312",
   "language": "python",
   "name": "python3"
  },
  "language_info": {
   "codemirror_mode": {
    "name": "ipython",
    "version": 3
   },
   "file_extension": ".py",
   "mimetype": "text/x-python",
   "name": "python",
   "nbconvert_exporter": "python",
   "pygments_lexer": "ipython3",
   "version": "3.12.3"
  }
 },
 "nbformat": 4,
 "nbformat_minor": 2
}
