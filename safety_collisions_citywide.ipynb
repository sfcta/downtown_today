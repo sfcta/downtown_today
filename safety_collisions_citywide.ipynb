{
 "cells": [
  {
   "cell_type": "code",
   "execution_count": 1,
   "metadata": {},
   "outputs": [],
   "source": [
    "import altair as alt\n",
    "import polars as pl\n",
    "\n",
    "from altair_utils import color_collision_ped_bike"
   ]
  },
  {
   "cell_type": "code",
   "execution_count": 5,
   "metadata": {},
   "outputs": [],
   "source": [
    "df = pl.read_csv(r\"Q:\\CMP\\LOS Monitoring 2024\\safety-collisions.csv\")"
   ]
  },
  {
   "cell_type": "code",
   "execution_count": 50,
   "metadata": {},
   "outputs": [],
   "source": [
    "long_df = (\n",
    "    df.unpivot(\n",
    "        index=[\"year\", \"provisional\"],\n",
    "        on=[\"injury-pedestrian\", \"injury-bicycle\", \"fatal-pedestrian\", \"fatal-bicycle\"],\n",
    "        value_name=\"collisions\",\n",
    "    )\n",
    "    .with_columns(\n",
    "        pl.col(\"variable\").str.split(\"-\").list.to_struct(fields=[\"severity\", \"mode\"]),\n",
    "        date=pl.date(pl.col(\"year\"), 1, 1),\n",
    "        year=pl.col(\"year\").cast(str),\n",
    "    )\n",
    "    .with_columns(\n",
    "        year=pl.when(pl.col(\"provisional\"))\n",
    "        .then(pl.col(\"year\") + \"*\")\n",
    "        .otherwise(pl.col(\"year\"))\n",
    "    )\n",
    "    .unnest(\"variable\")\n",
    ")"
   ]
  },
  {
   "cell_type": "code",
   "execution_count": null,
   "metadata": {},
   "outputs": [],
   "source": [
    "injury_chart = (\n",
    "    alt.Chart(\n",
    "        long_df.filter((pl.col(\"year\") > \"2017\") & (pl.col(\"severity\") == \"injury\"))\n",
    "    )\n",
    "    .mark_bar()\n",
    "    .encode(\n",
    "        x=\"year:O\",\n",
    "        y=alt.Y(\"collisions\", title=\"injury collisions\"),\n",
    "        color=alt.Color(\"mode:N\").scale(\n",
    "            domain=[\"pedestrian\", \"bicycle\"], range=color_collision_ped_bike\n",
    "        ),\n",
    "        tooltip=[\"year\", \"provisional\", \"severity\", \"mode\", \"collisions\"],\n",
    "    )\n",
    "    .interactive()\n",
    ")\n",
    "injury_chart.properties(width=250).save(\n",
    "    \"output/Links/safety-collisions-trend-injury.png\"\n",
    ")\n",
    "injury_chart.properties(width=\"container\").save(\n",
    "    \"output/Links/safety-collisions-trend-injury.html\"\n",
    ")\n",
    "injury_chart.properties(width=250)"
   ]
  },
  {
   "cell_type": "code",
   "execution_count": null,
   "metadata": {},
   "outputs": [],
   "source": [
    "fatal_chart = (\n",
    "    alt.Chart(\n",
    "        long_df.filter((pl.col(\"year\") > \"2017\") & (pl.col(\"severity\") == \"fatal\"))\n",
    "    )\n",
    "    .mark_bar()\n",
    "    .encode(\n",
    "        x=\"year:O\",\n",
    "        y=alt.Y(\"collisions\", title=\"fatal collisions\"),\n",
    "        color=alt.Color(\"mode:N\").scale(\n",
    "            domain=[\"pedestrian\", \"bicycle\"], range=color_collision_ped_bike\n",
    "        ),\n",
    "        tooltip=[\"year\", \"provisional\", \"severity\", \"mode\", \"collisions\"],\n",
    "    )\n",
    "    .interactive()\n",
    ")\n",
    "fatal_chart.properties(width=250).save(\"output/Links/safety-collisions-trend-fatal.png\")\n",
    "fatal_chart.properties(width=\"container\").save(\n",
    "    \"output/Links/safety-collisions-trend-fatal.html\"\n",
    ")\n",
    "fatal_chart.properties(width=250)"
   ]
  }
 ],
 "metadata": {
  "kernelspec": {
   "display_name": "py312",
   "language": "python",
   "name": "python3"
  },
  "language_info": {
   "codemirror_mode": {
    "name": "ipython",
    "version": 3
   },
   "file_extension": ".py",
   "mimetype": "text/x-python",
   "name": "python",
   "nbconvert_exporter": "python",
   "pygments_lexer": "ipython3",
   "version": "3.12.3"
  }
 },
 "nbformat": 4,
 "nbformat_minor": 2
}
