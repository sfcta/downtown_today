{
 "cells": [
  {
   "cell_type": "code",
   "execution_count": null,
   "metadata": {},
   "outputs": [],
   "source": [
    "%load_ext autoreload"
   ]
  },
  {
   "cell_type": "code",
   "execution_count": null,
   "metadata": {},
   "outputs": [],
   "source": [
    "import altair as alt\n",
    "import polars as pl\n",
    "\n",
    "%autoreload\n",
    "from altair_utils import color_sf_bayarea"
   ]
  },
  {
   "cell_type": "code",
   "execution_count": null,
   "metadata": {},
   "outputs": [],
   "source": [
    "df = (\n",
    "    pl.read_csv(\n",
    "        r\"Q:\\Data\\Surveys\\CA-EDD\\LocalAreaUnemploymentStats\\laborforceandunemployment_annual_2024627.csv\"\n",
    "    )\n",
    "    .filter(\n",
    "        # just to make sure we don't get duplicate entries\n",
    "        (pl.col(\"Area Type\") == \"County\")\n",
    "        & (pl.col(\"Month\") == \"Annual\")\n",
    "        & (pl.col(\"Seasonally Adjusted(Y/N)\") == \"N\")\n",
    "    )\n",
    "    .drop(\"Area Type\", \"Month\", \"Seasonally Adjusted(Y/N)\")\n",
    "    .rename({\"Year\": \"year\", \"Unemployment Rate\": \"unemployment rate (%)\"})\n",
    "    .with_columns((pl.col(\"unemployment rate (%)\") / 100).alias(\"unemployment rate\"))\n",
    ")\n",
    "sf = df.filter(pl.col(\"Area Name\") == \"San Francisco County\").select(\n",
    "    \"year\",\n",
    "    \"unemployment rate\",\n",
    "    \"unemployment rate (%)\",\n",
    "    geography=pl.lit(\"San Francisco\"),\n",
    ")\n",
    "bayarea = (\n",
    "    df.filter(\n",
    "        pl.col(\"Area Name\").is_in(\n",
    "            {\n",
    "                \"San Francisco County\",\n",
    "                \"Marin County\",\n",
    "                \"Sonoma County\",\n",
    "                \"Napa County\",\n",
    "                \"Solano County\",\n",
    "                \"Contra Costa County\",\n",
    "                \"Alameda County\",\n",
    "                \"Santa Clara County\",\n",
    "                \"San Mateo County\",\n",
    "            }\n",
    "        )\n",
    "    )\n",
    "    .group_by(\"year\")\n",
    "    .agg(pl.sum(\"Labor Force\", \"Unemployment\"))\n",
    "    .with_columns(\n",
    "        (pl.col(\"Unemployment\") / pl.col(\"Labor Force\")).alias(\"unemployment rate\")\n",
    "    )\n",
    "    .with_columns(pl.col(\"unemployment rate\").round(3))\n",
    "    .select(\n",
    "        \"year\",\n",
    "        \"unemployment rate\",\n",
    "        (pl.col(\"unemployment rate\") * 100).alias(\"unemployment rate (%)\"),\n",
    "        geography=pl.lit(\"Bay Area\"),\n",
    "    )\n",
    "    .sort(\"year\")\n",
    ")\n",
    "output_df = pl.concat((sf, bayarea)).filter(pl.col(\"year\") > 2007)"
   ]
  },
  {
   "cell_type": "code",
   "execution_count": null,
   "metadata": {},
   "outputs": [],
   "source": [
    "output_df.write_csv(\"output/data/unemployment.csv\")\n",
    "chart = (\n",
    "    alt.Chart(output_df.with_columns(pl.date(\"year\", 1, 1)))\n",
    "    .mark_line()\n",
    "    .encode(\n",
    "        x=alt.X(\n",
    "            \"date\",\n",
    "            title=\"year\",\n",
    "            axis=alt.Axis(values=[\"2008-1-1\", \"2013-1-1\", \"2018-1-1\", \"2023-1-1\"]),\n",
    "        ),\n",
    "        y=alt.Y(\"unemployment rate\").axis(format=\"%\"),\n",
    "        color=alt.Color(\"geography\").scale(\n",
    "            domain=[\"San Francisco\", \"Bay Area\"],\n",
    "            range=color_sf_bayarea,\n",
    "        ),\n",
    "        tooltip=[\"year\", \"geography\", \"unemployment rate (%)\"],\n",
    "    )\n",
    "    .interactive()\n",
    ")\n",
    "chart.save(\"output/Links/unemployment.png\", scale_factor=3)\n",
    "chart.properties(width=\"container\").save(\"output/Links/unemployment.html\")\n",
    "chart"
   ]
  }
 ],
 "metadata": {
  "kernelspec": {
   "display_name": "py312",
   "language": "python",
   "name": "python3"
  },
  "language_info": {
   "codemirror_mode": {
    "name": "ipython",
    "version": 3
   },
   "file_extension": ".py",
   "mimetype": "text/x-python",
   "name": "python",
   "nbconvert_exporter": "python",
   "pygments_lexer": "ipython3",
   "version": "3.12.3"
  }
 },
 "nbformat": 4,
 "nbformat_minor": 2
}
