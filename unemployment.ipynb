{
 "cells": [
  {
   "cell_type": "code",
   "execution_count": null,
   "metadata": {},
   "outputs": [],
   "source": [
    "from pathlib import Path\n",
    "\n",
    "import hvplot.polars\n",
    "import polars as pl\n",
    "\n",
    "hvplot.extension(\"bokeh\")"
   ]
  },
  {
   "cell_type": "code",
   "execution_count": null,
   "metadata": {},
   "outputs": [],
   "source": [
    "dir = Path(r\"Q:\\Data\\PeerAgencyDashboards\\MTC-VitalSigns\")\n",
    "region_df = pl.read_csv(\n",
    "    dir\n",
    "    / \"Unemployment - Historical Trend for Unemployment Rate - Region - downloaded 240524.csv\",\n",
    "    columns=[\"year\", \"unemployment_rate\", \"region\"],\n",
    ")\n",
    "county_df = pl.read_csv(\n",
    "    dir\n",
    "    / \"Unemployment - Historical Trend for Unemployment Rate - Counties - downloaded 240524.csv\",\n",
    "    columns=[\"year\", \"unemployment_rate\", \"county\"],\n",
    ")"
   ]
  },
  {
   "cell_type": "code",
   "execution_count": null,
   "metadata": {},
   "outputs": [],
   "source": [
    "plot = (\n",
    "    pl.concat(\n",
    "        [\n",
    "            region_df.rename({\"region\": \"geography\"}),\n",
    "            county_df.rename({\"county\": \"geography\"}).filter(\n",
    "                pl.col(\"geography\") == \"San Francisco\"\n",
    "            ),\n",
    "        ]\n",
    "    )\n",
    "    .filter(pl.col(\"year\") > 2012)\n",
    "    .plot.line(x=\"year\", y=\"unemployment_rate\", by=\"geography\")\n",
    ")\n",
    "hvplot.save(plot, \"figs/unemployment.png\")\n",
    "plot"
   ]
  }
 ],
 "metadata": {
  "kernelspec": {
   "display_name": "py3.11",
   "language": "python",
   "name": "python3"
  },
  "language_info": {
   "codemirror_mode": {
    "name": "ipython",
    "version": 3
   },
   "file_extension": ".py",
   "mimetype": "text/x-python",
   "name": "python",
   "nbconvert_exporter": "python",
   "pygments_lexer": "ipython3",
   "version": "3.12.3"
  }
 },
 "nbformat": 4,
 "nbformat_minor": 2
}
