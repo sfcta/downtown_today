{
 "cells": [
  {
   "cell_type": "code",
   "execution_count": 1,
   "metadata": {},
   "outputs": [],
   "source": [
    "import polars as pl\n",
    "\n",
    "from altair_utils import color_value_transit_teal\n",
    "from utils import line_plot\n"
   ]
  },
  {
   "cell_type": "code",
   "execution_count": 2,
   "metadata": {},
   "outputs": [],
   "source": [
    "df = pl.read_csv(r\"Q:\\CMP\\LOS Monitoring 2024\\vmt.csv\")"
   ]
  },
  {
   "cell_type": "code",
   "execution_count": null,
   "metadata": {},
   "outputs": [],
   "source": [
    "chart = line_plot(\n",
    "    df.filter(pl.col(\"year\") > 2017),\n",
    "    x=\"year\",\n",
    "    y=\"VMT\",\n",
    "    title=\"Daily VMT in San Francisco\",\n",
    "    color=color_value_transit_teal,\n",
    "    tooltip=[\"year\", \"VMT\"],\n",
    ")\n",
    "chart.save(\"output/Links/vmt.png\")\n",
    "chart.properties(width=\"container\").save(\"output/Links/vmt.html\")\n",
    "chart"
   ]
  }
 ],
 "metadata": {
  "kernelspec": {
   "display_name": "py312",
   "language": "python",
   "name": "python3"
  },
  "language_info": {
   "codemirror_mode": {
    "name": "ipython",
    "version": 3
   },
   "file_extension": ".py",
   "mimetype": "text/x-python",
   "name": "python",
   "nbconvert_exporter": "python",
   "pygments_lexer": "ipython3",
   "version": "3.12.3"
  }
 },
 "nbformat": 4,
 "nbformat_minor": 2
}
