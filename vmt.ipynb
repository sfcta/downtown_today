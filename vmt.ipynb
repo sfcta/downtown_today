{
 "cells": [
  {
   "cell_type": "code",
   "execution_count": null,
   "metadata": {},
   "outputs": [],
   "source": [
    "import altair as alt\n",
    "import polars as pl\n",
    "\n",
    "from altair_utils import color_value_transit_teal\n",
    "from utils import line_plot\n"
   ]
  },
  {
   "cell_type": "code",
   "execution_count": null,
   "metadata": {},
   "outputs": [],
   "source": [
    "caltrans_df = pl.read_csv(r\"Q:\\CMP\\LOS Monitoring 2024\\vmt.csv\")  # from Caltrans\n",
    "# from database behind covid-congestion prospector dashboard\n",
    "sfcta_df = (\n",
    "    pl.read_csv(r\"Q:\\Model Research\\downtown_today\\vmt-covid_congestion.csv\")\n",
    "    .with_columns(pl.col(\"date\").str.to_date(\"%Y-%m\"), pl.col(\"VMT\") * 1e6)\n",
    "    .with_columns(\n",
    "        year=pl.col(\"date\").dt.year(),\n",
    "        quarter=pl.col(\"date\").dt.quarter(),\n",
    "    )\n",
    ")\n"
   ]
  },
  {
   "cell_type": "code",
   "execution_count": null,
   "metadata": {},
   "outputs": [],
   "source": [
    "caltrans_chart = line_plot(\n",
    "    caltrans_df.filter(pl.col(\"year\") > 2017),\n",
    "    x=\"year\",\n",
    "    y=\"VMT\",\n",
    "    title=\"Daily VMT in San Francisco\",\n",
    "    color=color_value_transit_teal,\n",
    "    tooltip=[\"year\", \"VMT\"],\n",
    ")\n",
    "caltrans_chart"
   ]
  },
  {
   "cell_type": "code",
   "execution_count": null,
   "metadata": {},
   "outputs": [],
   "source": [
    "sfcta_quarterly_df = (\n",
    "    sfcta_df.sort(\"date\")\n",
    "    .group_by(\"year\", \"quarter\")\n",
    "    # also convert VMT back to million\n",
    "    .agg(pl.min(\"date\"), pl.mean(\"VMT\").round_sig_figs(2))\n",
    ")\n"
   ]
  },
  {
   "cell_type": "code",
   "execution_count": null,
   "metadata": {},
   "outputs": [],
   "source": [
    "sfcta_chart = (\n",
    "    alt.Chart(sfcta_quarterly_df)\n",
    "    .mark_line()\n",
    "    .encode(\n",
    "        x=alt.X(\"date\", timeUnit=\"yearquarter\", title=\"date\"),\n",
    "        y=alt.Y(\"VMT\", title=\"Daily VMT in San Francisco\", axis=alt.Axis(format=\"s\")),\n",
    "        color=color_value_transit_teal,\n",
    "        tooltip=[\"year\", \"quarter\", alt.Tooltip(\"VMT\", format=\"~s\")],\n",
    "    )\n",
    ")\n",
    "sfcta_quarterly_df.write_csv(\"output/data/vmt.csv\")\n",
    "sfcta_chart.save(\"output/Links/vmt.png\", scale_factor=3)\n",
    "sfcta_chart.properties(width=\"container\").save(\"output/Links/vmt.html\")\n",
    "sfcta_chart\n"
   ]
  }
 ],
 "metadata": {
  "kernelspec": {
   "display_name": "py312",
   "language": "python",
   "name": "python3"
  },
  "language_info": {
   "codemirror_mode": {
    "name": "ipython",
    "version": 3
   },
   "file_extension": ".py",
   "mimetype": "text/x-python",
   "name": "python",
   "nbconvert_exporter": "python",
   "pygments_lexer": "ipython3",
   "version": "3.12.3"
  }
 },
 "nbformat": 4,
 "nbformat_minor": 2
}
