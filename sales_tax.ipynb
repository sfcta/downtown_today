{
 "cells": [
  {
   "cell_type": "code",
   "execution_count": 1,
   "metadata": {},
   "outputs": [],
   "source": [
    "%load_ext autoreload"
   ]
  },
  {
   "cell_type": "code",
   "execution_count": 17,
   "metadata": {},
   "outputs": [],
   "source": [
    "import altair as alt\n",
    "import polars as pl\n",
    "\n",
    "%autoreload\n",
    "from altair_utils import color_sfubercore_restofsfcore_restofsf\n"
   ]
  },
  {
   "cell_type": "code",
   "execution_count": 22,
   "metadata": {},
   "outputs": [],
   "source": [
    "northeast_core_analysis_neighborhoods = {\n",
    "    \"Financial District/South Beach\",\n",
    "    \"Mission Bay\",\n",
    "    \"South of Market\",\n",
    "    \"Tenderloin\",\n",
    "    \"Nob Hill\",\n",
    "    \"Chinatown\",\n",
    "    \"North Beach\",\n",
    "    \"Russian Hill\",\n",
    "}\n",
    "\n",
    "\n",
    "northeast_core_market_st_adjacent_analysis_neighborhoods = {\n",
    "    \"Financial District/South Beach\",\n",
    "    \"South of Market\",\n",
    "    \"Tenderloin\",\n",
    "}\n",
    "\n",
    "\n",
    "def add_geography_col(df):\n",
    "    return df.with_columns(\n",
    "        # since the 3 Market St adjacent neighborhoods look so different,\n",
    "        # there's value in separating them out\n",
    "        # geography=pl.when(\n",
    "        #     pl.col(\"analysis_neighborhood\").is_in(\n",
    "        #         northeast_core_analysis_neighborhoods\n",
    "        #     )\n",
    "        # )\n",
    "        # .then(pl.lit(\"northeast core\"))\n",
    "        # .otherwise(pl.lit(\"rest of SF\")),\n",
    "        geography=pl.when(\n",
    "            pl.col(\"analysis_neighborhood\").is_in(\n",
    "                northeast_core_market_st_adjacent_analysis_neighborhoods\n",
    "            )\n",
    "        )\n",
    "        .then(pl.lit(\"FiDi / South Beach, SoMa, Tenderloin\"))\n",
    "        .when(\n",
    "            pl.col(\"analysis_neighborhood\").is_in(\n",
    "                northeast_core_analysis_neighborhoods  # and not in the above 3\n",
    "            )\n",
    "        )\n",
    "        .then(pl.lit(\"rest of northeast core\"))\n",
    "        .otherwise(pl.lit(\"rest of SF\")),\n",
    "    )"
   ]
  },
  {
   "cell_type": "code",
   "execution_count": 23,
   "metadata": {},
   "outputs": [],
   "source": [
    "filepath = r\"Q:\\Data\\PeerAgencyDashboards\\SFCity-EconRecovery\\sales_tax-quarterly-updated240624.csv\"\n",
    "df = (\n",
    "    pl.read_csv(filepath)\n",
    "    .with_columns(\n",
    "        pl.col(\"Date\").str.split(\" \").list.to_struct(\"max_width\", [\"year\", \"quarter\"]),\n",
    "        pl.col(\"Sales Tax Revenue\")\n",
    "        .str.replace(\"$\", \"\", literal=True)\n",
    "        .str.replace_all(\",\", \"\")\n",
    "        .cast(int),\n",
    "    )\n",
    "    .rename({\"Neighborhood\": \"analysis_neighborhood\"})\n",
    "    .unnest(\"Date\")\n",
    "    .with_columns(pl.col(\"year\").cast(int))\n",
    ")"
   ]
  },
  {
   "cell_type": "code",
   "execution_count": 24,
   "metadata": {},
   "outputs": [],
   "source": [
    "annual_wide_df = (\n",
    "    df.group_by(\"year\", \"analysis_neighborhood\")\n",
    "    .agg(pl.sum(\"Sales Tax Revenue\"))\n",
    "    .sort(\"year\", \"analysis_neighborhood\")\n",
    "    .pivot(index=\"analysis_neighborhood\", on=\"year\", values=\"Sales Tax Revenue\")\n",
    ")\n",
    "# for Abe to make the map with the GIS file for Analysis Neighborhoods\n",
    "annual_wide_df.write_csv(\n",
    "    r\"Q:\\Model Research\\downtown_today\\output\\data\\sales_tax-annual-wide.csv\"\n",
    ")"
   ]
  },
  {
   "cell_type": "code",
   "execution_count": 25,
   "metadata": {},
   "outputs": [],
   "source": [
    "annual_total_df = (\n",
    "    df\n",
    "    # sum sales tax revenue over the 4 quarters of a year\n",
    "    .group_by(\"year\")\n",
    "    .agg(pl.sum(\"Sales Tax Revenue\"))\n",
    "    .sort(\"year\")\n",
    ")"
   ]
  },
  {
   "cell_type": "code",
   "execution_count": null,
   "metadata": {},
   "outputs": [],
   "source": [
    "annual_total_df.with_columns(\n",
    "    sales_tax_revenue_vs_2018=pl.col(\"Sales Tax Revenue\")\n",
    "    / annual_total_df.filter(pl.col(\"year\") == 2018).select(\"Sales Tax Revenue\").item(),\n",
    "    sales_tax_revenue_vs_2019=pl.col(\"Sales Tax Revenue\")\n",
    "    / annual_total_df.filter(pl.col(\"year\") == 2019).select(\"Sales Tax Revenue\").item(),\n",
    ")"
   ]
  },
  {
   "cell_type": "code",
   "execution_count": null,
   "metadata": {},
   "outputs": [],
   "source": [
    "(\n",
    "    df\n",
    "    # sum sales tax revenue over the 4 quarters of a year\n",
    "    .group_by(\"year\")\n",
    "    .agg(pl.sum(\"Sales Tax Revenue\"))\n",
    "    .sort(\"year\")\n",
    ").plot.line(\n",
    "    x=\"year\",\n",
    "    y=\"Sales Tax Revenue\",\n",
    ").properties(title=\"total annual sales tax revenue for SF\")"
   ]
  },
  {
   "cell_type": "code",
   "execution_count": 62,
   "metadata": {},
   "outputs": [],
   "source": [
    "annual_total_df = (\n",
    "    add_geography_col(df)\n",
    "    .rename({\"Sales Tax Revenue\": \"sales tax revenue\"})\n",
    "    # sum sales tax revenue over\n",
    "    # 1. the 4 quarters of a year\n",
    "    # 2. the geographies / grouped analysis neighborhoods\n",
    "    .group_by(\"year\", \"geography\")\n",
    "    .agg(pl.sum(\"sales tax revenue\"))\n",
    "    .with_columns(\n",
    "        (pl.col(\"sales tax revenue\") / pl.col(\"sales tax revenue\").sum().over(\"year\"))\n",
    "        .round(3)\n",
    "        .alias(\"sales tax revenue share\")\n",
    "    )\n",
    "    .sort(\"year\", \"geography\")\n",
    "    .filter(pl.col(\"year\") > 2017)\n",
    ")\n",
    "# no need to write CSV, use raw data directly\n",
    "annual_total_df.write_csv(\"output/data/sales_tax.csv\")\n",
    "annual_total_df = annual_total_df.with_columns(date=pl.date(pl.col(\"year\"), 1, 1))"
   ]
  },
  {
   "cell_type": "code",
   "execution_count": 65,
   "metadata": {},
   "outputs": [],
   "source": [
    "sales_tax_chart = (\n",
    "    alt.Chart(annual_total_df)\n",
    "    .transform_calculate(\n",
    "        order=\"{'rest of SF': 0, 'rest of northeast core': 1, 'FiDi / South Beach, SoMa, Tenderloin': 2}[datum.geography]\"\n",
    "    )\n",
    "    .mark_area()\n",
    "    .encode(\n",
    "        x=alt.X(\"date\", title=\"year\"),\n",
    "        y=alt.Y(\"sales tax revenue\").axis(format=\"$s\"),\n",
    "        color=alt.Color(\"geography:N\").scale(\n",
    "            domain=[\n",
    "                \"FiDi / South Beach, SoMa, Tenderloin\",\n",
    "                \"rest of northeast core\",\n",
    "                \"rest of SF\",\n",
    "            ],\n",
    "            range=color_sfubercore_restofsfcore_restofsf,\n",
    "        ),\n",
    "        order=\"order:O\",\n",
    "        tooltip=[\"year\", \"geography\", \"sales tax revenue\"],\n",
    "    )\n",
    ")\n",
    "sales_tax_chart.save(\"output/Links/sales_tax.html\")\n",
    "sales_tax_chart.save(\"output/Links/sales_tax.png\")\n",
    "sales_tax_chart\n"
   ]
  },
  {
   "cell_type": "code",
   "execution_count": null,
   "metadata": {},
   "outputs": [],
   "source": [
    "sales_tax_shares_chart = (\n",
    "    alt.Chart(annual_total_df.with_columns())\n",
    "    .mark_line()\n",
    "    .encode(\n",
    "        x=alt.X(\"date\", title=\"year\"),\n",
    "        y=alt.Y(\n",
    "            \"sales tax revenue share\",\n",
    "            title=\"sales tax revenue shares within San Francisco\",\n",
    "        ).axis(format=\"%\"),\n",
    "        color=alt.Color(\"geography:N\").scale(\n",
    "            domain=[\n",
    "                \"FiDi / South Beach, SoMa, Tenderloin\",\n",
    "                \"rest of northeast core\",\n",
    "                \"rest of SF\",\n",
    "            ],\n",
    "            range=color_sfubercore_restofsfcore_restofsf,\n",
    "        ),\n",
    "        order=\"order:O\",\n",
    "        tooltip=[\"year\", \"geography\", \"sales tax revenue\", \"sales tax revenue share\"],\n",
    "    )\n",
    ")\n",
    "sales_tax_shares_chart.save(\"output/Links/sales_tax-shares.html\")\n",
    "sales_tax_shares_chart.save(\"output/Links/sales_tax-shares.png\")\n",
    "sales_tax_shares_chart\n"
   ]
  }
 ],
 "metadata": {
  "kernelspec": {
   "display_name": "py312",
   "language": "python",
   "name": "python3"
  },
  "language_info": {
   "codemirror_mode": {
    "name": "ipython",
    "version": 3
   },
   "file_extension": ".py",
   "mimetype": "text/x-python",
   "name": "python",
   "nbconvert_exporter": "python",
   "pygments_lexer": "ipython3",
   "version": "3.12.3"
  }
 },
 "nbformat": 4,
 "nbformat_minor": 2
}
