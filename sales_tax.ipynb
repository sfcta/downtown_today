{
 "cells": [
  {
   "cell_type": "code",
   "execution_count": null,
   "metadata": {},
   "outputs": [],
   "source": [
    "import hvplot.polars\n",
    "import polars as pl\n",
    "from bokeh.io import output_notebook\n",
    "\n",
    "hvplot.extension(\"bokeh\")\n",
    "output_notebook()"
   ]
  },
  {
   "cell_type": "code",
   "execution_count": null,
   "metadata": {},
   "outputs": [],
   "source": [
    "northeast_core_analysis_neighborhoods = {\n",
    "    \"Financial District/South Beach\",\n",
    "    \"Mission Bay\",\n",
    "    \"South of Market\",\n",
    "    \"Tenderloin\",\n",
    "    \"Nob Hill\",\n",
    "    \"Chinatown\",\n",
    "    \"North Beach\",\n",
    "    \"Russian Hill\",\n",
    "}\n",
    "\n",
    "\n",
    "northeast_core_market_st_adjacent_analysis_neighborhoods = {\n",
    "    \"Financial District/South Beach\",\n",
    "    \"South of Market\",\n",
    "    \"Tenderloin\",\n",
    "}\n",
    "\n",
    "\n",
    "def add_geography_col(df):\n",
    "    return df.with_columns(\n",
    "        # since the 3 Market St adjacent neighborhoods look so different,\n",
    "        # there's value in separating them out\n",
    "        # geography=pl.when(\n",
    "        #     pl.col(\"analysis_neighborhood\").is_in(\n",
    "        #         northeast_core_analysis_neighborhoods\n",
    "        #     )\n",
    "        # )\n",
    "        # .then(pl.lit(\"northeast core\"))\n",
    "        # .otherwise(pl.lit(\"rest of SF\")),\n",
    "        geography=pl.when(\n",
    "            pl.col(\"analysis_neighborhood\").is_in(\n",
    "                northeast_core_market_st_adjacent_analysis_neighborhoods\n",
    "            )\n",
    "        )\n",
    "        .then(pl.lit(\"1. FiDi / South Beach, SoMa, Tenderloin\"))\n",
    "        .when(\n",
    "            pl.col(\"analysis_neighborhood\").is_in(\n",
    "                northeast_core_analysis_neighborhoods  # and not in the above 3\n",
    "            )\n",
    "        )\n",
    "        .then(pl.lit(\"2. rest of northeast core\"))\n",
    "        .otherwise(pl.lit(\"3. rest of SF\")),\n",
    "    )"
   ]
  },
  {
   "cell_type": "code",
   "execution_count": null,
   "metadata": {},
   "outputs": [],
   "source": [
    "filepath = r\"Q:\\Data\\PeerAgencyDashboards\\SFCity-EconRecovery\\sales_tax-quarterly-updated240624.csv\"\n",
    "df = (\n",
    "    pl.read_csv(filepath)\n",
    "    .with_columns(\n",
    "        pl.col(\"Date\").str.split(\" \").list.to_struct(\"max_width\", [\"year\", \"quarter\"]),\n",
    "        pl.col(\"Sales Tax Revenue\")\n",
    "        .str.replace(\"$\", \"\", literal=True)\n",
    "        .str.replace_all(\",\", \"\")\n",
    "        .cast(int),\n",
    "    )\n",
    "    .rename({\"Neighborhood\": \"analysis_neighborhood\"})\n",
    "    .unnest(\"Date\")\n",
    "    .with_columns(pl.col(\"year\").cast(int))\n",
    ")"
   ]
  },
  {
   "cell_type": "code",
   "execution_count": null,
   "metadata": {},
   "outputs": [],
   "source": [
    "annual_total_df = (\n",
    "    df\n",
    "    # sum sales tax revenue over the 4 quarters of a year\n",
    "    .group_by(\"year\")\n",
    "    .agg(pl.sum(\"Sales Tax Revenue\"))\n",
    "    .sort(\"year\")\n",
    ")\n"
   ]
  },
  {
   "cell_type": "code",
   "execution_count": null,
   "metadata": {},
   "outputs": [],
   "source": [
    "annual_total_df.with_columns(\n",
    "    sales_tax_revenue_vs_2018=pl.col(\"Sales Tax Revenue\")\n",
    "    / annual_total_df.filter(pl.col(\"year\") == 2018).select(\"Sales Tax Revenue\").item(),\n",
    "    sales_tax_revenue_vs_2019=pl.col(\"Sales Tax Revenue\")\n",
    "    / annual_total_df.filter(pl.col(\"year\") == 2019).select(\"Sales Tax Revenue\").item(),\n",
    ")\n"
   ]
  },
  {
   "cell_type": "code",
   "execution_count": null,
   "metadata": {},
   "outputs": [],
   "source": [
    "# just plotting this for interactivity since bokeh area plot tooltips are broken\n",
    "(\n",
    "    df\n",
    "    # sum sales tax revenue over the 4 quarters of a year\n",
    "    .group_by(\"year\")\n",
    "    .agg(pl.sum(\"Sales Tax Revenue\"))\n",
    "    .sort(\"year\")\n",
    ").plot(x=\"year\", y=\"Sales Tax Revenue\", title=\"total annual sales tax revenue for SF\")\n"
   ]
  },
  {
   "cell_type": "code",
   "execution_count": null,
   "metadata": {},
   "outputs": [],
   "source": [
    "annual_total_df = (\n",
    "    (\n",
    "        add_geography_col(df)\n",
    "        # sum sales tax revenue over\n",
    "        # 1. the 4 quarters of a year\n",
    "        # 2. the geographies / grouped analysis neighborhoods\n",
    "        .group_by(\"year\", \"geography\")\n",
    "        .agg(pl.sum(\"Sales Tax Revenue\"))\n",
    "    )\n",
    "    .with_columns(\n",
    "        sales_tax_revenue_share=(\n",
    "            pl.col(\"Sales Tax Revenue\") / pl.col(\"Sales Tax Revenue\").sum().over(\"year\")\n",
    "        )\n",
    "    )\n",
    "    .sort(\"year\", \"geography\")\n",
    ")\n",
    "# no need to write CSV, use raw data directly\n",
    "# annual_total_df.write_csv(\"output/csvs/sales_tax.csv\")\n",
    "sales_tax_plot = annual_total_df.plot.area(\n",
    "    x=\"year\",\n",
    "    y=\"Sales Tax Revenue\",\n",
    "    by=\"geography\",\n",
    "    stacked=True,\n",
    "    # ylim=[0, 200000000],\n",
    "    frame_width=250,\n",
    "    legend=False,\n",
    ") + annual_total_df.plot.line(\n",
    "    x=\"year\",\n",
    "    y=\"Sales Tax Revenue\",\n",
    "    by=\"geography\",\n",
    "    frame_width=250,\n",
    ")\n",
    "hvplot.save(sales_tax_plot, \"output/figs/sales_tax.html\")\n",
    "hvplot.save(sales_tax_plot, \"output/figs/sales_tax.png\")\n",
    "sales_tax_plot"
   ]
  }
 ],
 "metadata": {
  "kernelspec": {
   "display_name": "py312",
   "language": "python",
   "name": "python3"
  },
  "language_info": {
   "codemirror_mode": {
    "name": "ipython",
    "version": 3
   },
   "file_extension": ".py",
   "mimetype": "text/x-python",
   "name": "python",
   "nbconvert_exporter": "python",
   "pygments_lexer": "ipython3",
   "version": "3.12.3"
  }
 },
 "nbformat": 4,
 "nbformat_minor": 2
}
