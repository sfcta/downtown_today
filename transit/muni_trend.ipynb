{
 "cells": [
  {
   "cell_type": "code",
   "execution_count": 1,
   "metadata": {},
   "outputs": [],
   "source": [
    "%load_ext autoreload"
   ]
  },
  {
   "cell_type": "code",
   "execution_count": 14,
   "metadata": {},
   "outputs": [],
   "source": [
    "import sys\n",
    "\n",
    "import altair as alt\n",
    "import polars as pl\n",
    "\n",
    "sys.path.append(\"../\")\n",
    "%autoreload\n",
    "from altair_utils import color_weekday_weekend"
   ]
  },
  {
   "cell_type": "code",
   "execution_count": 31,
   "metadata": {},
   "outputs": [],
   "source": [
    "df = (\n",
    "    pl.read_csv(r\"Q:\\Model Research\\downtown_today\\muni-ridership-monthly.csv\")\n",
    "    .with_columns(\n",
    "        date=pl.col(\"MONTH\").str.split(\" \").list.first().str.to_date(\"%m/%d/%Y\"),\n",
    "        weekday=(pl.col(\"Service Day of the Week\") == \"WEEKDAY\"),\n",
    "    )\n",
    "    # get mean of Sat and Sun\n",
    "    .group_by(\"date\", \"weekday\")\n",
    "    .agg(pl.mean(\"Average Daily Boardings\").alias(\"average daily boardings\"))\n",
    "    # take annual average\n",
    "    .with_columns(\n",
    "        pl.col(\"weekday\")\n",
    "        .replace_strict({True: \"weekday\", False: \"weekend\"})\n",
    "        .alias(\"day of week\"),\n",
    "    )\n",
    "    .sort(\"date\")\n",
    ")"
   ]
  },
  {
   "cell_type": "code",
   "execution_count": 32,
   "metadata": {},
   "outputs": [],
   "source": [
    "annual_df = (\n",
    "    df.with_columns(year=pl.col(\"date\").dt.year())\n",
    "    .group_by(\"year\", \"day of week\")\n",
    "    .agg(pl.mean(\"average daily boardings\"))\n",
    "    .sort(\"year\", \"day of week\")\n",
    "    .filter((pl.col(\"year\") > 2018) & (pl.col(\"year\") < 2024))  # partial years\n",
    ")\n",
    "quarterly_df = (\n",
    "    df.sort(\"date\")\n",
    "    .group_by_dynamic(\"date\", every=\"3mo\", group_by=\"day of week\")\n",
    "    .agg(pl.mean(\"average daily boardings\"))\n",
    ").with_columns(\n",
    "    year=pl.col(\"date\").dt.year(),\n",
    "    quarter=pl.col(\"date\").dt.quarter(),\n",
    ")"
   ]
  },
  {
   "cell_type": "code",
   "execution_count": null,
   "metadata": {},
   "outputs": [],
   "source": [
    "(\n",
    "    alt.Chart(annual_df, title=\"Muni ridership (annual avg)\")\n",
    "    .mark_line()\n",
    "    .encode(\n",
    "        x=\"year\",\n",
    "        y=\"average daily boardings\",\n",
    "        color=alt.Color(\"day of week:N\").scale(\n",
    "            domain=[\"weekday\", \"weekend\"], range=color_weekday_weekend\n",
    "        ),\n",
    "    )\n",
    ")"
   ]
  },
  {
   "cell_type": "code",
   "execution_count": null,
   "metadata": {},
   "outputs": [],
   "source": [
    "quarterly_df.write_csv(\"../output/data/muni-ridership-trend.csv\")\n",
    "chart = (\n",
    "    alt.Chart(quarterly_df)\n",
    "    .mark_line()\n",
    "    .encode(\n",
    "        x=\"date\",\n",
    "        y=alt.Y(\n",
    "            \"average daily boardings\",\n",
    "            title=\"Muni average daily boardings (quarterly)\",\n",
    "        ),\n",
    "        color=alt.Color(\"day of week:N\").scale(\n",
    "            domain=[\"weekday\", \"weekend\"], range=color_weekday_weekend\n",
    "        ),\n",
    "        tooltip=[\"year\", \"quarter\", \"day of week\", \"average daily boardings\"],\n",
    "    )\n",
    ")\n",
    "chart.save(\"../output/Links/muni-ridership-trend.png\")\n",
    "chart.save(\"../output/Links/muni-ridership-trend.html\")\n",
    "chart"
   ]
  }
 ],
 "metadata": {
  "kernelspec": {
   "display_name": "py312",
   "language": "python",
   "name": "python3"
  },
  "language_info": {
   "codemirror_mode": {
    "name": "ipython",
    "version": 3
   },
   "file_extension": ".py",
   "mimetype": "text/x-python",
   "name": "python",
   "nbconvert_exporter": "python",
   "pygments_lexer": "ipython3",
   "version": "3.12.3"
  }
 },
 "nbformat": 4,
 "nbformat_minor": 2
}
