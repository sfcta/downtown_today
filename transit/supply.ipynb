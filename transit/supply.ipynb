{
 "cells": [
  {
   "cell_type": "code",
   "execution_count": null,
   "metadata": {},
   "outputs": [],
   "source": [
    "%load_ext autoreload"
   ]
  },
  {
   "cell_type": "code",
   "execution_count": 47,
   "metadata": {},
   "outputs": [],
   "source": [
    "import sys\n",
    "\n",
    "import altair as alt\n",
    "import polars as pl\n",
    "\n",
    "sys.path.append(\"../\")\n",
    "%autoreload\n",
    "from altair_utils import color_line_muni_bart_caltrain\n",
    "from utils import line_plot_normalized"
   ]
  },
  {
   "cell_type": "code",
   "execution_count": 5,
   "metadata": {},
   "outputs": [],
   "source": [
    "# BART has a weird drop in 2023, so we're not using the monthly data from MTC directly\n",
    "# vrh = (\n",
    "#     pl.read_csv(  # vehicle revenue hours\n",
    "#         r\"Q:\\Data\\PeerAgencyDashboards\\MTC-NTD\\Daily VRH Line_data.csv\",\n",
    "#         schema_overrides={\"Average Daily Vehicle Revenue Hours\": float},\n",
    "#     )\n",
    "#     .with_columns((pl.col(\"Month of Date\") + \" 1\").str.to_date(\"%B %Y %d\"))\n",
    "#     .rename({\"Common.Agency.Name\": \"agency\", \"Month of Date\": \"date\"})\n",
    "#     .with_columns(year=pl.col(\"date\").dt.year())\n",
    "# )\n",
    "# vrm = (\n",
    "#     pl.read_csv(  # vehicle revenue miles\n",
    "#         r\"Q:\\Data\\PeerAgencyDashboards\\MTC-NTD\\Daily VRM Line_data.csv\",\n",
    "#         schema_overrides={\n",
    "#             \"Avg. Average Daily Vehicle Revenue Miles\": float,\n",
    "#             \"Avg. Monthly Vehicle Revenue Miles\": float,\n",
    "#         },\n",
    "#     )\n",
    "#     .with_columns((pl.col(\"Month of Date\")).str.to_date(\"%m/%d/%Y\"))\n",
    "#     .rename(\n",
    "#         {\n",
    "#             \"Common.Agency.Name\": \"agency\",\n",
    "#             \"Month of Date\": \"date\",\n",
    "#             \"Avg. Average Daily Vehicle Revenue Miles\": \"Average Daily Vehicle Revenue Miles\",\n",
    "#         }\n",
    "#     )\n",
    "#     .with_columns(year=pl.col(\"date\").dt.year())\n",
    "# )\n",
    "\n",
    "vrh = (\n",
    "    pl.read_csv(  # vehicle revenue hours\n",
    "        r\"Q:\\Model Research\\downtown_today\\transit-NTD-VehicleRevenueHours.csv\",\n",
    "        # schema_overrides={\"Average Daily Vehicle Revenue Hours\": float},\n",
    "    )\n",
    ").unpivot(\n",
    "    index=\"year\",\n",
    "    on=[\"BART\", \"Caltrain\", \"Muni\"],\n",
    "    variable_name=\"operator\",\n",
    "    value_name=\"annual vehicle revenue hours (VRH)\",\n",
    ")"
   ]
  },
  {
   "cell_type": "code",
   "execution_count": null,
   "metadata": {},
   "outputs": [],
   "source": [
    "(\n",
    "    line_plot_normalized(\n",
    "        vrh,\n",
    "        x=\"year\",\n",
    "        y=\"annual vehicle revenue hours (VRH)\",\n",
    "        color=alt.Color(\"operator\").scale(\n",
    "            domain=[\"Muni\", \"BART\", \"Caltrain\"], range=color_line_muni_bart_caltrain\n",
    "        ),\n",
    "        norm_x_value=2018,\n",
    "    )[1]\n",
    "    | line_plot_normalized(\n",
    "        vrh,\n",
    "        x=\"year\",\n",
    "        y=\"annual vehicle revenue hours (VRH)\",\n",
    "        color=alt.Color(\"operator\").scale(\n",
    "            domain=[\"Muni\", \"BART\", \"Caltrain\"], range=color_line_muni_bart_caltrain\n",
    "        ),\n",
    "        norm_x_value=2019,\n",
    "    )[1]\n",
    ")\n"
   ]
  },
  {
   "cell_type": "code",
   "execution_count": null,
   "metadata": {},
   "outputs": [],
   "source": [
    "vrh_normalized, chart = line_plot_normalized(\n",
    "    vrh.filter(pl.col(\"year\") > 2018),\n",
    "    x=\"year\",\n",
    "    y=\"annual vehicle revenue hours (VRH)\",\n",
    "    color=alt.Color(\"operator\").scale(\n",
    "        domain=[\"Muni\", \"BART\", \"Caltrain\"], range=color_line_muni_bart_caltrain\n",
    "    ),\n",
    "    norm_x_value=2019,\n",
    "    tooltip=[\n",
    "        \"year\",\n",
    "        \"operator\",\n",
    "        alt.Tooltip(\"annual vehicle revenue hours (VRH)\", title=\"annual VRH\"),\n",
    "        alt.Tooltip(\n",
    "            r\"annual vehicle revenue hours (VRH) (% of 2019 value)\",\n",
    "            title=r\"annual VRH (% of 2019 value)\",\n",
    "        ),\n",
    "    ],\n",
    ")\n",
    "vrh_normalized.write_csv(\"../output/data/transit-supply-vrh.csv\")\n",
    "chart.save(\"../output/Links/transit-supply-vrh.png\")\n",
    "chart.properties(width=\"container\").save(\"../output/Links/transit-supply-vrh.html\")\n",
    "chart"
   ]
  }
 ],
 "metadata": {
  "kernelspec": {
   "display_name": "py312",
   "language": "python",
   "name": "python3"
  },
  "language_info": {
   "codemirror_mode": {
    "name": "ipython",
    "version": 3
   },
   "file_extension": ".py",
   "mimetype": "text/x-python",
   "name": "python",
   "nbconvert_exporter": "python",
   "pygments_lexer": "ipython3",
   "version": "3.12.3"
  }
 },
 "nbformat": 4,
 "nbformat_minor": 2
}
