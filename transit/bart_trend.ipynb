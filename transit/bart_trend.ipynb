{
 "cells": [
  {
   "cell_type": "code",
   "execution_count": null,
   "metadata": {},
   "outputs": [],
   "source": [
    "%load_ext autoreload"
   ]
  },
  {
   "cell_type": "code",
   "execution_count": null,
   "metadata": {},
   "outputs": [],
   "source": [
    "import sys\n",
    "\n",
    "import altair as alt\n",
    "import polars as pl\n",
    "\n",
    "sys.path.append(\"../\")\n",
    "%autoreload\n",
    "from bart import (\n",
    "    filter_montofri,\n",
    "    geo_dest_filters_for_stacking_dict,\n",
    "    geo_orig_filters_for_stacking_dict,\n",
    "    group_hourly_od_df,\n",
    "    read_hourly_od_csvs,\n",
    ")\n",
    "\n",
    "from altair_utils import color_sfcore_restofsf_restofbayarea\n",
    "from utils import add_normalization_col"
   ]
  },
  {
   "cell_type": "code",
   "execution_count": null,
   "metadata": {},
   "outputs": [],
   "source": [
    "years = [2018, 2019, 2020, 2021, 2022, 2023]\n",
    "hourly_od_df = read_hourly_od_csvs(years)"
   ]
  },
  {
   "cell_type": "code",
   "execution_count": null,
   "metadata": {},
   "outputs": [],
   "source": [
    "def average_orig_dest(orig_df, dest_df, index_cols):\n",
    "    return orig_df.join(dest_df, on=index_cols).select(\n",
    "        index_cols,\n",
    "        avg_daily_ridership=pl.mean_horizontal(\n",
    "            pl.col(\"avg_daily_ridership\", \"avg_daily_ridership_right\")\n",
    "        ),\n",
    "    )"
   ]
  },
  {
   "cell_type": "code",
   "execution_count": null,
   "metadata": {},
   "outputs": [],
   "source": [
    "# geography col: origin station\n",
    "annual_dow_orig_df = group_hourly_od_df(\n",
    "    hourly_od_df, geo_orig_filters_for_stacking_dict, \"1y\", dow_filter=None\n",
    ")\n",
    "\n",
    "# geography col: destination station\n",
    "annual_dow_dest_df = group_hourly_od_df(\n",
    "    hourly_od_df, geo_dest_filters_for_stacking_dict, \"1y\", dow_filter=None\n",
    ")\n"
   ]
  },
  {
   "cell_type": "code",
   "execution_count": null,
   "metadata": {},
   "outputs": [],
   "source": [
    "# avg of orig/dest in each geography\n",
    "# ! use for daily numbers, NOT for time of day\n",
    "annual_dow_df = add_normalization_col(  # norm col is for tooltip\n",
    "    (\n",
    "        average_orig_dest(\n",
    "            annual_dow_orig_df, annual_dow_dest_df, [\"year\", \"dow\", \"geography\"]\n",
    "        )\n",
    "        .with_columns(\n",
    "            weekday=filter_montofri.replace_strict(\n",
    "                [True, False], [\"weekday\", \"weekend\"]\n",
    "            )\n",
    "        )\n",
    "        .filter(pl.col(\"geography\") != \"rest of BART system\")\n",
    "        .group_by(\"year\", \"geography\", \"weekday\")\n",
    "        .agg(pl.mean(\"avg_daily_ridership\"))\n",
    "    ),\n",
    "    \"year\",\n",
    "    \"avg_daily_ridership\",\n",
    "    r\"ridership (% of 2019)\",\n",
    "    2019,\n",
    ").with_columns(\n",
    "    pl.col(\"avg_daily_ridership\").round(0), pl.col(\"ridership (% of 2019)\").round(3)\n",
    ")\n",
    "annual_dow_df.write_csv(\"../output/data/bart-ridership-trend.csv\")"
   ]
  },
  {
   "cell_type": "code",
   "execution_count": null,
   "metadata": {},
   "outputs": [],
   "source": [
    "bart_ridership_trend_chart = (\n",
    "    alt.Chart(annual_dow_df.with_columns(date=pl.date(pl.col(\"year\"), 1, 1)))\n",
    "    # .transform_calculate(  # for area charts\n",
    "    #     geog_order=\"{'SF (Market St)': 1, 'rest of SF': 2, 'rest of BART system': 3}[datum.geography]\"\n",
    "    # )\n",
    "    .mark_line()\n",
    "    .encode(\n",
    "        x=alt.X(\"date:T\", title=\"year\"),\n",
    "        y=alt.Y(\"avg_daily_ridership:Q\", title=None),\n",
    "        color=alt.Color(\n",
    "            \"geography\", sort=alt.SortField(\"geog_order\", \"ascending\")\n",
    "        ).scale(\n",
    "            domain=[\"SF (Market St)\", \"rest of SF\"],  # \"rest of BART system\"],\n",
    "            range=color_sfcore_restofsf_restofbayarea[:2],\n",
    "        ),\n",
    "        # order=alt.Order(\"geog_order:O\"),  # for area charts\n",
    "        # strokeDash=\"weekday\",\n",
    "        column=alt.Column(\"weekday\", title=None, spacing=30),\n",
    "        tooltip=[\n",
    "            \"year\",\n",
    "            \"geography\",\n",
    "            alt.Tooltip(\"avg_daily_ridership\", title=\"ridership\"),\n",
    "            alt.Tooltip(\"ridership (% of 2019)\", format=\".1%\"),\n",
    "        ],\n",
    "    )\n",
    "    .properties(\n",
    "        title=\"BART average daily ridership\",\n",
    "        autosize=alt.AutoSizeParams(type=\"fit\", contains=\"padding\", resize=True),\n",
    "    )\n",
    ")\n",
    "bart_ridership_trend_chart.save(\"../output/Links/bart-ridership-trend.png\", scale=3)\n",
    "bart_ridership_trend_chart.properties(width=\"container\").save(\n",
    "    \"../output/Links/bart-ridership-trend.html\"\n",
    ")\n",
    "bart_ridership_trend_chart\n"
   ]
  }
 ],
 "metadata": {
  "kernelspec": {
   "display_name": "py312",
   "language": "python",
   "name": "python3"
  },
  "language_info": {
   "codemirror_mode": {
    "name": "ipython",
    "version": 3
   },
   "file_extension": ".py",
   "mimetype": "text/x-python",
   "name": "python",
   "nbconvert_exporter": "python",
   "pygments_lexer": "ipython3",
   "version": "3.12.3"
  }
 },
 "nbformat": 4,
 "nbformat_minor": 4
}
